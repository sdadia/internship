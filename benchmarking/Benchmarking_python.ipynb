{
 "cells": [
  {
   "cell_type": "code",
   "execution_count": null,
   "metadata": {
    "ExecuteTime": {
     "end_time": "2019-03-26T13:11:07.546478Z",
     "start_time": "2019-03-26T13:11:07.226087Z"
    }
   },
   "outputs": [],
   "source": [
    "from sqlalchemy import create_engine\n",
    "import pandas as pd"
   ]
  },
  {
   "cell_type": "code",
   "execution_count": null,
   "metadata": {
    "ExecuteTime": {
     "end_time": "2019-03-26T13:14:26.882340Z",
     "start_time": "2019-03-26T13:14:26.866559Z"
    }
   },
   "outputs": [],
   "source": [
    "import pymssql"
   ]
  },
  {
   "cell_type": "code",
   "execution_count": null,
   "metadata": {
    "ExecuteTime": {
     "end_time": "2019-03-26T13:14:41.437914Z",
     "start_time": "2019-03-26T13:14:41.410529Z"
    }
   },
   "outputs": [],
   "source": [
    "import pymysql.cursors\n"
   ]
  },
  {
   "cell_type": "markdown",
   "metadata": {},
   "source": [
    "## Load CSV"
   ]
  },
  {
   "cell_type": "code",
   "execution_count": null,
   "metadata": {
    "ExecuteTime": {
     "end_time": "2019-03-26T12:38:57.724386Z",
     "start_time": "2019-03-26T12:38:51.383642Z"
    }
   },
   "outputs": [],
   "source": [
    "df = pd.read_csv(\"./cfs.csv\", header=0)"
   ]
  },
  {
   "cell_type": "code",
   "execution_count": null,
   "metadata": {
    "ExecuteTime": {
     "end_time": "2019-03-26T12:38:57.746623Z",
     "start_time": "2019-03-26T12:38:57.725815Z"
    }
   },
   "outputs": [],
   "source": [
    "df.head(5)"
   ]
  },
  {
   "cell_type": "markdown",
   "metadata": {},
   "source": [
    "## Load CSV into Local Postgres Database"
   ]
  },
  {
   "cell_type": "code",
   "execution_count": null,
   "metadata": {
    "ExecuteTime": {
     "end_time": "2019-03-26T11:21:40.495831Z",
     "start_time": "2019-03-26T11:21:40.479978Z"
    }
   },
   "outputs": [],
   "source": [
    "POSTGRES_USERNAME = \"sahil\"\n",
    "POSTGRES_PASSWORD = \"zxcvbnm\"\n",
    "POSTGRES_DBNAME = \"spark_demo_db\"\n",
    "POSTGRES_HOST = \"localhost\"\n",
    "\n",
    "url = 'postgresql://{}:{}@{}:{}/{}'.format(POSTGRES_USERNAME, POSTGRES_PASSWORD, POSTGRES_HOST, 5432, POSTGRES_DBNAME)\n",
    "print(url)\n",
    "engine = create_engine(url)\n"
   ]
  },
  {
   "cell_type": "code",
   "execution_count": null,
   "metadata": {
    "ExecuteTime": {
     "end_time": "2019-03-26T11:22:47.459182Z",
     "start_time": "2019-03-26T11:21:49.362493Z"
    }
   },
   "outputs": [],
   "source": [
    "%%timeit -r 3\n",
    "df.head(100000).to_sql('cfs_python',engine, if_exists='replace')"
   ]
  },
  {
   "cell_type": "markdown",
   "metadata": {},
   "source": [
    "## Load CSV into AWS Postgres Database\n",
    "\n",
    "Bear in mid this time is affected by your internet speed and RDS instance type."
   ]
  },
  {
   "cell_type": "code",
   "execution_count": null,
   "metadata": {
    "ExecuteTime": {
     "end_time": "2019-03-26T11:23:18.284099Z",
     "start_time": "2019-03-26T11:23:18.262695Z"
    }
   },
   "outputs": [],
   "source": [
    "POSTGRES_USERNAME = \"sahil\"\n",
    "POSTGRES_PASSWORD = \"Asdfg1234!\"\n",
    "POSTGRES_DBNAME = \"postgres\"\n",
    "POSTGRES_HOST = \"postgresdb2.cznthudneeub.eu-west-1.rds.amazonaws.com\"\n",
    "\n",
    "url = 'postgresql://{}:{}@{}:{}/{}'.format(POSTGRES_USERNAME, POSTGRES_PASSWORD, POSTGRES_HOST, 5432, POSTGRES_DBNAME)\n",
    "print(url)\n",
    "engine = create_engine(url)\n"
   ]
  },
  {
   "cell_type": "code",
   "execution_count": null,
   "metadata": {
    "ExecuteTime": {
     "end_time": "2019-03-26T11:27:05.048199Z",
     "start_time": "2019-03-26T11:26:51.392447Z"
    }
   },
   "outputs": [],
   "source": [
    "df.head(1000).to_sql('cfs_python',engine, if_exists='replace')"
   ]
  },
  {
   "cell_type": "markdown",
   "metadata": {},
   "source": [
    "## Load CSV into Local MySQL Database"
   ]
  },
  {
   "cell_type": "code",
   "execution_count": null,
   "metadata": {
    "ExecuteTime": {
     "end_time": "2019-03-26T12:39:09.188087Z",
     "start_time": "2019-03-26T12:39:09.140147Z"
    }
   },
   "outputs": [],
   "source": [
    "POSTGRES_USERNAME = \"root\"\n",
    "POSTGRES_PASSWORD = \"zxcvbnm\"\n",
    "POSTGRES_DBNAME = \"mysql\"\n",
    "POSTGRES_HOST = \"localhost\"\n",
    "\n",
    "url = 'mysql+pymysql://{}:{}@{}:{}/{}'.format(POSTGRES_USERNAME, POSTGRES_PASSWORD, POSTGRES_HOST, 3306, POSTGRES_DBNAME)\n",
    "print(url)\n",
    "engine = create_engine(url)"
   ]
  },
  {
   "cell_type": "code",
   "execution_count": null,
   "metadata": {
    "ExecuteTime": {
     "end_time": "2019-03-26T12:41:49.592922Z",
     "start_time": "2019-03-26T12:39:11.146923Z"
    }
   },
   "outputs": [],
   "source": [
    "%%timeit -r 3\n",
    "df.head(100000).to_sql('cfs_python',engine, if_exists='replace')"
   ]
  },
  {
   "cell_type": "markdown",
   "metadata": {},
   "source": [
    "## Load CSV into AWS MySQL Database"
   ]
  },
  {
   "cell_type": "code",
   "execution_count": null,
   "metadata": {
    "ExecuteTime": {
     "end_time": "2019-03-26T12:44:16.638039Z",
     "start_time": "2019-03-26T12:44:16.617632Z"
    }
   },
   "outputs": [],
   "source": [
    "POSTGRES_USERNAME = \"sahil\"\n",
    "POSTGRES_PASSWORD = \"Asdfg1234!\"\n",
    "POSTGRES_DBNAME = \"sahil\"\n",
    "POSTGRES_HOST = \"mysql2.cznthudneeub.eu-west-1.rds.amazonaws.com\"\n",
    "\n",
    "url = 'mysql+pymysql://{}:{}@{}:{}/{}'.format(POSTGRES_USERNAME, POSTGRES_PASSWORD, POSTGRES_HOST, 3306, POSTGRES_DBNAME)\n",
    "print(url)\n",
    "engine = create_engine(url)"
   ]
  },
  {
   "cell_type": "code",
   "execution_count": null,
   "metadata": {
    "ExecuteTime": {
     "end_time": "2019-03-26T12:47:34.020878Z",
     "start_time": "2019-03-26T12:47:31.752010Z"
    }
   },
   "outputs": [],
   "source": [
    "# %%timeit -r 3\n",
    "df.head(10000).to_sql('cfs_python',engine, if_exists='replace')"
   ]
  },
  {
   "cell_type": "markdown",
   "metadata": {},
   "source": [
    "## Load CSV into Local SQL Server Database"
   ]
  },
  {
   "cell_type": "markdown",
   "metadata": {},
   "source": [
    "[Install SQL Server](https://docs.microsoft.com/en-us/sql/linux/quickstart-install-connect-ubuntu?view=sql-server-2017)"
   ]
  },
  {
   "cell_type": "code",
   "execution_count": 1,
   "metadata": {
    "ExecuteTime": {
     "end_time": "2019-03-26T16:45:57.117846Z",
     "start_time": "2019-03-26T16:45:55.277690Z"
    }
   },
   "outputs": [],
   "source": [
    "import pymysql\n"
   ]
  },
  {
   "cell_type": "code",
   "execution_count": null,
   "metadata": {
    "ExecuteTime": {
     "end_time": "2019-03-26T13:17:38.633342Z",
     "start_time": "2019-03-26T13:17:38.613288Z"
    }
   },
   "outputs": [],
   "source": [
    "POSTGRES_USERNAME = \"SA\"\n",
    "POSTGRES_PASSWORD = \"Asdfg1234!\"\n",
    "POSTGRES_DBNAME = \"sparkdemodb\"\n",
    "POSTGRES_HOST = \"localhost\"\n",
    "\n",
    "url = 'mssql+pymssql://{}:{}@{}:{}/{}'.format(POSTGRES_USERNAME, POSTGRES_PASSWORD, POSTGRES_HOST, 3306, POSTGRES_DBNAME)\n",
    "print(url)\n",
    "engine = create_engine(url)\n",
    "\n"
   ]
  },
  {
   "cell_type": "code",
   "execution_count": null,
   "metadata": {
    "ExecuteTime": {
     "end_time": "2019-03-26T13:18:28.171056Z",
     "start_time": "2019-03-26T13:18:28.078447Z"
    }
   },
   "outputs": [],
   "source": [
    "engine.table_names()"
   ]
  },
  {
   "cell_type": "code",
   "execution_count": null,
   "metadata": {
    "ExecuteTime": {
     "end_time": "2019-03-26T13:17:42.797716Z",
     "start_time": "2019-03-26T13:17:42.739632Z"
    }
   },
   "outputs": [],
   "source": [
    "engine.execute(\"CREATE DATABASE TestDB1\")"
   ]
  },
  {
   "cell_type": "code",
   "execution_count": null,
   "metadata": {},
   "outputs": [],
   "source": []
  }
 ],
 "metadata": {
  "kernelspec": {
   "display_name": "Python 3",
   "language": "python",
   "name": "python3"
  },
  "language_info": {
   "codemirror_mode": {
    "name": "ipython",
    "version": 3
   },
   "file_extension": ".py",
   "mimetype": "text/x-python",
   "name": "python",
   "nbconvert_exporter": "python",
   "pygments_lexer": "ipython3",
   "version": "3.5.2"
  }
 },
 "nbformat": 4,
 "nbformat_minor": 2
}
