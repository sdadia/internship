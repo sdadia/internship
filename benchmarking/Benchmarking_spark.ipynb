{
 "cells": [
  {
   "cell_type": "code",
   "execution_count": 1,
   "metadata": {
    "ExecuteTime": {
     "end_time": "2019-03-27T17:30:42.723150Z",
     "start_time": "2019-03-27T17:30:28.613306Z"
    }
   },
   "outputs": [],
   "source": [
    "from pyspark.sql import SparkSession\n",
    "import pandas as pd\n",
    "import os\n",
    "os.environ[\"PYSPARK_PYTHON\"]=\"/usr/bin/python3\"\n",
    "os.environ[\"PYSPARK_DRIVER_PYTHON\"]=\"/usr/bin/python3\"\n",
    "os.environ['PYSPARK_SUBMIT_ARGS'] = '--driver-class-path  /home/sahil/Documents/code/internship/benchmarking/sqljdbc_7.2/enu/mssql-jdbc-7.2.1.jre8.jar --packages org.postgresql:postgresql:42.2.1,mysql:mysql-connector-java:8.0.14,com.microsoft.sqlserver:mssql-jdbc:7.2.1.jre11 --driver-memory 4G pyspark-shell'\n",
    "\n",
    "spark = SparkSession.builder\\\n",
    "                    .appName('AWS external sources spark')\\\n",
    "                    .master(\"local[4]\")\\\n",
    "                    .getOrCreate()"
   ]
  },
  {
   "cell_type": "code",
   "execution_count": 2,
   "metadata": {
    "ExecuteTime": {
     "end_time": "2019-03-27T17:30:42.727225Z",
     "start_time": "2019-03-27T17:30:42.724888Z"
    }
   },
   "outputs": [],
   "source": [
    "# spark.stop()"
   ]
  },
  {
   "cell_type": "code",
   "execution_count": 3,
   "metadata": {
    "ExecuteTime": {
     "end_time": "2019-03-27T17:30:42.939450Z",
     "start_time": "2019-03-27T17:30:42.728644Z"
    }
   },
   "outputs": [
    {
     "data": {
      "text/html": [
       "\n",
       "            <div>\n",
       "                <p><b>SparkSession - in-memory</b></p>\n",
       "                \n",
       "        <div>\n",
       "            <p><b>SparkContext</b></p>\n",
       "\n",
       "            <p><a href=\"http://192.168.0.80:4040\">Spark UI</a></p>\n",
       "\n",
       "            <dl>\n",
       "              <dt>Version</dt>\n",
       "                <dd><code>v2.4.0</code></dd>\n",
       "              <dt>Master</dt>\n",
       "                <dd><code>local[4]</code></dd>\n",
       "              <dt>AppName</dt>\n",
       "                <dd><code>AWS external sources spark</code></dd>\n",
       "            </dl>\n",
       "        </div>\n",
       "        \n",
       "            </div>\n",
       "        "
      ],
      "text/plain": [
       "<pyspark.sql.session.SparkSession at 0x7f2369a809b0>"
      ]
     },
     "execution_count": 3,
     "metadata": {},
     "output_type": "execute_result"
    }
   ],
   "source": [
    "spark"
   ]
  },
  {
   "cell_type": "markdown",
   "metadata": {},
   "source": [
    "### Load CSV file and cache it"
   ]
  },
  {
   "cell_type": "code",
   "execution_count": 4,
   "metadata": {
    "ExecuteTime": {
     "end_time": "2019-03-27T17:31:04.319672Z",
     "start_time": "2019-03-27T17:30:56.356212Z"
    }
   },
   "outputs": [],
   "source": [
    "df = spark.read.csv(\"./cfs.csv\", header=True, inferSchema=True)"
   ]
  },
  {
   "cell_type": "code",
   "execution_count": 5,
   "metadata": {
    "ExecuteTime": {
     "end_time": "2019-03-27T17:31:07.145642Z",
     "start_time": "2019-03-27T17:31:05.058674Z"
    }
   },
   "outputs": [
    {
     "data": {
      "text/html": [
       "<div>\n",
       "<style scoped>\n",
       "    .dataframe tbody tr th:only-of-type {\n",
       "        vertical-align: middle;\n",
       "    }\n",
       "\n",
       "    .dataframe tbody tr th {\n",
       "        vertical-align: top;\n",
       "    }\n",
       "\n",
       "    .dataframe thead th {\n",
       "        text-align: right;\n",
       "    }\n",
       "</style>\n",
       "<table border=\"1\" class=\"dataframe\">\n",
       "  <thead>\n",
       "    <tr style=\"text-align: right;\">\n",
       "      <th></th>\n",
       "      <th>SHIPMT_ID</th>\n",
       "      <th>ORIG_STATE</th>\n",
       "      <th>ORIG_MA</th>\n",
       "      <th>ORIG_CFS_AREA</th>\n",
       "      <th>DEST_STATE</th>\n",
       "      <th>DEST_MA</th>\n",
       "      <th>DEST_CFS_AREA</th>\n",
       "      <th>NAICS</th>\n",
       "      <th>QUARTER</th>\n",
       "      <th>SCTG</th>\n",
       "      <th>MODE</th>\n",
       "      <th>SHIPMT_VALUE</th>\n",
       "      <th>SHIPMT_WGHT</th>\n",
       "      <th>SHIPMT_DIST_GC</th>\n",
       "      <th>SHIPMT_DIST_ROUTED</th>\n",
       "      <th>TEMP_CNTL_YN</th>\n",
       "      <th>EXPORT_YN</th>\n",
       "      <th>EXPORT_CNTRY</th>\n",
       "      <th>HAZMAT</th>\n",
       "      <th>WGT_FACTOR</th>\n",
       "    </tr>\n",
       "  </thead>\n",
       "  <tbody>\n",
       "    <tr>\n",
       "      <th>0</th>\n",
       "      <td>1</td>\n",
       "      <td>25</td>\n",
       "      <td>148</td>\n",
       "      <td>25-148</td>\n",
       "      <td>25</td>\n",
       "      <td>148</td>\n",
       "      <td>25-148</td>\n",
       "      <td>333</td>\n",
       "      <td>2</td>\n",
       "      <td>35</td>\n",
       "      <td>14</td>\n",
       "      <td>2178</td>\n",
       "      <td>11</td>\n",
       "      <td>14</td>\n",
       "      <td>17</td>\n",
       "      <td>N</td>\n",
       "      <td>N</td>\n",
       "      <td>N</td>\n",
       "      <td>N</td>\n",
       "      <td>208.5</td>\n",
       "    </tr>\n",
       "    <tr>\n",
       "      <th>1</th>\n",
       "      <td>2</td>\n",
       "      <td>42</td>\n",
       "      <td>428</td>\n",
       "      <td>42-428</td>\n",
       "      <td>6</td>\n",
       "      <td>41740</td>\n",
       "      <td>06-41740</td>\n",
       "      <td>311</td>\n",
       "      <td>3</td>\n",
       "      <td>35</td>\n",
       "      <td>14</td>\n",
       "      <td>344</td>\n",
       "      <td>11</td>\n",
       "      <td>2344</td>\n",
       "      <td>2734</td>\n",
       "      <td>N</td>\n",
       "      <td>N</td>\n",
       "      <td>N</td>\n",
       "      <td>N</td>\n",
       "      <td>193.3</td>\n",
       "    </tr>\n",
       "    <tr>\n",
       "      <th>2</th>\n",
       "      <td>3</td>\n",
       "      <td>26</td>\n",
       "      <td>220</td>\n",
       "      <td>26-220</td>\n",
       "      <td>47</td>\n",
       "      <td>314</td>\n",
       "      <td>47-314</td>\n",
       "      <td>322</td>\n",
       "      <td>2</td>\n",
       "      <td>27</td>\n",
       "      <td>4</td>\n",
       "      <td>4197</td>\n",
       "      <td>5134</td>\n",
       "      <td>470</td>\n",
       "      <td>579</td>\n",
       "      <td>N</td>\n",
       "      <td>N</td>\n",
       "      <td>N</td>\n",
       "      <td>N</td>\n",
       "      <td>51.2</td>\n",
       "    </tr>\n",
       "    <tr>\n",
       "      <th>3</th>\n",
       "      <td>4</td>\n",
       "      <td>20</td>\n",
       "      <td>556</td>\n",
       "      <td>20-556</td>\n",
       "      <td>20</td>\n",
       "      <td>556</td>\n",
       "      <td>20-556</td>\n",
       "      <td>323</td>\n",
       "      <td>1</td>\n",
       "      <td>29</td>\n",
       "      <td>4</td>\n",
       "      <td>116</td>\n",
       "      <td>6</td>\n",
       "      <td>3</td>\n",
       "      <td>3</td>\n",
       "      <td>N</td>\n",
       "      <td>N</td>\n",
       "      <td>N</td>\n",
       "      <td>N</td>\n",
       "      <td>238.7</td>\n",
       "    </tr>\n",
       "    <tr>\n",
       "      <th>4</th>\n",
       "      <td>5</td>\n",
       "      <td>12</td>\n",
       "      <td>99999</td>\n",
       "      <td>12-99999</td>\n",
       "      <td>12</td>\n",
       "      <td>99999</td>\n",
       "      <td>12-99999</td>\n",
       "      <td>4235</td>\n",
       "      <td>3</td>\n",
       "      <td>33</td>\n",
       "      <td>5</td>\n",
       "      <td>388</td>\n",
       "      <td>527</td>\n",
       "      <td>124</td>\n",
       "      <td>201</td>\n",
       "      <td>N</td>\n",
       "      <td>N</td>\n",
       "      <td>N</td>\n",
       "      <td>N</td>\n",
       "      <td>398.1</td>\n",
       "    </tr>\n",
       "  </tbody>\n",
       "</table>\n",
       "</div>"
      ],
      "text/plain": [
       "   SHIPMT_ID  ORIG_STATE  ORIG_MA ORIG_CFS_AREA  DEST_STATE  DEST_MA  \\\n",
       "0          1          25      148        25-148          25      148   \n",
       "1          2          42      428        42-428           6    41740   \n",
       "2          3          26      220        26-220          47      314   \n",
       "3          4          20      556        20-556          20      556   \n",
       "4          5          12    99999      12-99999          12    99999   \n",
       "\n",
       "  DEST_CFS_AREA  NAICS  QUARTER SCTG  MODE  SHIPMT_VALUE  SHIPMT_WGHT  \\\n",
       "0        25-148    333        2   35    14          2178           11   \n",
       "1      06-41740    311        3   35    14           344           11   \n",
       "2        47-314    322        2   27     4          4197         5134   \n",
       "3        20-556    323        1   29     4           116            6   \n",
       "4      12-99999   4235        3   33     5           388          527   \n",
       "\n",
       "   SHIPMT_DIST_GC  SHIPMT_DIST_ROUTED TEMP_CNTL_YN EXPORT_YN EXPORT_CNTRY  \\\n",
       "0              14                  17            N         N            N   \n",
       "1            2344                2734            N         N            N   \n",
       "2             470                 579            N         N            N   \n",
       "3               3                   3            N         N            N   \n",
       "4             124                 201            N         N            N   \n",
       "\n",
       "  HAZMAT  WGT_FACTOR  \n",
       "0      N       208.5  \n",
       "1      N       193.3  \n",
       "2      N        51.2  \n",
       "3      N       238.7  \n",
       "4      N       398.1  "
      ]
     },
     "execution_count": 5,
     "metadata": {},
     "output_type": "execute_result"
    }
   ],
   "source": [
    "df.limit(5).toPandas()"
   ]
  },
  {
   "cell_type": "code",
   "execution_count": 6,
   "metadata": {
    "ExecuteTime": {
     "end_time": "2019-03-27T17:31:35.253142Z",
     "start_time": "2019-03-27T17:31:09.591387Z"
    }
   },
   "outputs": [
    {
     "data": {
      "text/plain": [
       "4547661"
      ]
     },
     "execution_count": 6,
     "metadata": {},
     "output_type": "execute_result"
    }
   ],
   "source": [
    "# repartiton and cache\n",
    "df = df.repartition(8)\n",
    "df.cache()\n",
    "df.count()"
   ]
  },
  {
   "cell_type": "code",
   "execution_count": null,
   "metadata": {},
   "outputs": [],
   "source": [
    "# df.unpersist()"
   ]
  },
  {
   "cell_type": "markdown",
   "metadata": {},
   "source": [
    "### Local Postgres Database"
   ]
  },
  {
   "cell_type": "markdown",
   "metadata": {},
   "source": [
    "For all 4 million rows, it takes about 1 min 45 seconds to run on local machine"
   ]
  },
  {
   "cell_type": "code",
   "execution_count": 7,
   "metadata": {
    "ExecuteTime": {
     "end_time": "2019-03-27T17:31:43.323782Z",
     "start_time": "2019-03-27T17:31:38.191034Z"
    }
   },
   "outputs": [],
   "source": [
    "# %%timeit -r 3\n",
    "df.limit(100000).write\\\n",
    "      .format(\"jdbc\")\\\n",
    "      .option(\"driver\", \"org.postgresql.Driver\")\\\n",
    "      .option(\"url\", \"jdbc:postgresql://localhost:5432/postgres\")\\\n",
    "      .option(\"dbtable\", \"cfs_spark\")\\\n",
    "      .option(\"user\", \"sahil\")\\\n",
    "      .option(\"password\",\"zxcvbnm\")\\\n",
    "      .mode(\"overwrite\")\\\n",
    "      .save()"
   ]
  },
  {
   "cell_type": "markdown",
   "metadata": {},
   "source": [
    "### AWS Postgres Database\n",
    "\n",
    "Bear in mid this time is affected by your internet speed and RDS instance type."
   ]
  },
  {
   "cell_type": "code",
   "execution_count": null,
   "metadata": {},
   "outputs": [],
   "source": [
    "# %%timeit -r 3\n",
    "df.limit(100000).write\\\n",
    "      .format(\"jdbc\")\\\n",
    "      .option(\"driver\", \"org.postgresql.Driver\")\\\n",
    "      .option(\"url\", \"jdbc:postgresql://postgresdb2.cznthudneeub.eu-west-1.rds.amazonaws.com:5432/postgres\")\\\n",
    "      .option(\"dbtable\", \"cfs_spark\")\\\n",
    "      .option(\"user\", \"sahil\")\\\n",
    "      .option(\"password\",\"Asdfg1234!\")\\\n",
    "      .mode(\"overwrite\")\\\n",
    "      .save()\n"
   ]
  },
  {
   "cell_type": "code",
   "execution_count": null,
   "metadata": {},
   "outputs": [],
   "source": [
    "spark.stop()"
   ]
  },
  {
   "cell_type": "markdown",
   "metadata": {},
   "source": [
    "### Local MySQL Database"
   ]
  },
  {
   "cell_type": "code",
   "execution_count": 8,
   "metadata": {
    "ExecuteTime": {
     "end_time": "2019-03-27T17:33:12.662236Z",
     "start_time": "2019-03-27T17:32:43.597351Z"
    }
   },
   "outputs": [],
   "source": [
    "# %%timeit -r 3\n",
    "df.limit(100000).write\\\n",
    "      .format(\"jdbc\")\\\n",
    "      .option(\"driver\", \"com.mysql.jdbc.Driver\")\\\n",
    "      .option(\"url\", \"jdbc:mysql://localhost:3306/mysql\")\\\n",
    "      .option(\"dbtable\", \"cfs_spark\")\\\n",
    "      .option(\"user\", \"root\")\\\n",
    "      .option(\"password\",\"zxcvbnm\")\\\n",
    "      .mode(\"overwrite\")\\\n",
    "      .save()"
   ]
  },
  {
   "cell_type": "markdown",
   "metadata": {},
   "source": [
    "### AWS MySQL Database"
   ]
  },
  {
   "cell_type": "code",
   "execution_count": null,
   "metadata": {},
   "outputs": [],
   "source": [
    "%%timeit -r 3\n",
    "df.limit(100000).write\\\n",
    "      .format(\"jdbc\")\\\n",
    "      .option(\"driver\", \"com.mysql.jdbc.Driver\")\\\n",
    "      .option(\"url\", \"jdbc:mysql://mysql2.cznthudneeub.eu-west-1.rds.amazonaws.com:3306/sahil\")\\\n",
    "      .option(\"dbtable\", \"cfs_spark\")\\\n",
    "      .option(\"user\", \"sahil\")\\\n",
    "      .option(\"password\",\"Asdfg1234!\")\\\n",
    "      .mode(\"overwrite\")\\\n",
    "      .save()"
   ]
  },
  {
   "cell_type": "markdown",
   "metadata": {},
   "source": [
    "### SQL Server Local"
   ]
  },
  {
   "cell_type": "markdown",
   "metadata": {},
   "source": [
    "Download SQLServer Jar from [here](https://docs.microsoft.com/en-us/sql/connect/jdbc/download-microsoft-jdbc-driver-for-sql-server?view=sql-server-2017)"
   ]
  },
  {
   "cell_type": "code",
   "execution_count": null,
   "metadata": {},
   "outputs": [],
   "source": [
    "##\n",
    "## Dont Run\n",
    "## \n",
    "##### include the jar from the above downloaded packages as --jars option\n",
    "os.environ['PYSPARK_SUBMIT_ARGS'] = = '--driver-class-path /home/sahil/Desktop/sqljdbc_7.2/enu/mssql-jdbc-7.2.1.jre8.jar'"
   ]
  },
  {
   "cell_type": "code",
   "execution_count": 10,
   "metadata": {
    "ExecuteTime": {
     "end_time": "2019-03-27T17:33:56.006896Z",
     "start_time": "2019-03-27T17:33:50.975324Z"
    }
   },
   "outputs": [],
   "source": [
    "# %%timeit -r 3\n",
    "df.limit(100000).write.format(\"jdbc\") \\\n",
    "    .option(\"url\", \"jdbc:sqlserver://localhost:1433;databaseName=sparkdemodb\") \\\n",
    "    .option(\"dbtable\", \"cfs\") \\\n",
    "    .option(\"user\", \"SA\") \\\n",
    "    .option(\"password\", \"Asdfg1234!\")\\\n",
    "    .mode(\"overwrite\")\\\n",
    "    .save()"
   ]
  },
  {
   "cell_type": "code",
   "execution_count": null,
   "metadata": {},
   "outputs": [],
   "source": []
  }
 ],
 "metadata": {
  "kernelspec": {
   "display_name": "Python 3",
   "language": "python",
   "name": "python3"
  },
  "language_info": {
   "codemirror_mode": {
    "name": "ipython",
    "version": 3
   },
   "file_extension": ".py",
   "mimetype": "text/x-python",
   "name": "python",
   "nbconvert_exporter": "python",
   "pygments_lexer": "ipython3",
   "version": "3.5.2"
  }
 },
 "nbformat": 4,
 "nbformat_minor": 2
}
