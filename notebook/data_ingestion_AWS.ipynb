{
 "cells": [
  {
   "cell_type": "code",
   "execution_count": 1,
   "metadata": {
    "ExecuteTime": {
     "end_time": "2019-03-20T18:32:10.613011Z",
     "start_time": "2019-03-20T18:32:10.590893Z"
    }
   },
   "outputs": [
    {
     "data": {
      "text/html": [
       "<style>.container { width:100% !important; }</style>"
      ],
      "text/plain": [
       "<IPython.core.display.HTML object>"
      ]
     },
     "metadata": {},
     "output_type": "display_data"
    }
   ],
   "source": [
    "from IPython.core.display import display, HTML\n",
    "display(HTML(\"<style>.container { width:100% !important; }</style>\"))"
   ]
  },
  {
   "cell_type": "markdown",
   "metadata": {},
   "source": [
    "# Data Ingestion From External AWS Sources using Python"
   ]
  },
  {
   "cell_type": "markdown",
   "metadata": {},
   "source": [
    "## Setup\n",
    "\n",
    "You need [boto3](https://boto3.amazonaws.com/v1/documentation/api/latest/guide/quickstart.html#installation) library to interact with AWS using python.\n",
    "\n",
    "Install boto3 using the following command :"
   ]
  },
  {
   "cell_type": "code",
   "execution_count": null,
   "metadata": {},
   "outputs": [],
   "source": [
    "# pip install boto3"
   ]
  },
  {
   "cell_type": "markdown",
   "metadata": {},
   "source": [
    "You also need to have your IAM credentials setup using the **aws configure** command"
   ]
  },
  {
   "cell_type": "markdown",
   "metadata": {},
   "source": [
    "Inorder to interact with AWS sources, you need to create a client/resource object for that service. (Services are S3, kinesis, emr - services specified in the aws console).\n",
    "\n",
    "[List of services](https://boto3.amazonaws.com/v1/documentation/api/latest/reference/services/index.html) can be found here in boto3 documentation."
   ]
  },
  {
   "cell_type": "code",
   "execution_count": null,
   "metadata": {
    "ExecuteTime": {
     "end_time": "2019-03-14T11:59:50.175188Z",
     "start_time": "2019-03-14T11:59:50.031600Z"
    }
   },
   "outputs": [],
   "source": [
    "import boto3\n",
    "# s3_client = boto3.client(\"<service name here>\")\n",
    "# s3_client = boto3.client(\"<service name here>\")"
   ]
  },
  {
   "cell_type": "code",
   "execution_count": null,
   "metadata": {
    "ExecuteTime": {
     "end_time": "2019-03-14T09:36:41.271072Z",
     "start_time": "2019-03-14T09:36:41.268170Z"
    }
   },
   "outputs": [],
   "source": [
    "# use this to pretty print json/dictionary object in pytho\n",
    "from pprint import pprint\n",
    "import boto3\n",
    "import pandas as pd\n",
    "import random"
   ]
  },
  {
   "cell_type": "markdown",
   "metadata": {},
   "source": [
    "**All responses from clients are low level response of python dict/json type or None.**"
   ]
  },
  {
   "cell_type": "markdown",
   "metadata": {},
   "source": [
    "# S3\n",
    "\n",
    "All methods for S3 buckets are listed [here](https://boto3.amazonaws.com/v1/documentation/api/latest/reference/services/s3.html)\n",
    "\n",
    "* List buckets for an account\n",
    "* List objects in a bucket\n",
    "* Download a file from Bucket\n",
    "* Upload file to bucket"
   ]
  },
  {
   "cell_type": "markdown",
   "metadata": {},
   "source": [
    "### Create Client"
   ]
  },
  {
   "cell_type": "code",
   "execution_count": null,
   "metadata": {
    "ExecuteTime": {
     "end_time": "2019-03-14T09:09:17.500588Z",
     "start_time": "2019-03-14T09:09:17.241724Z"
    }
   },
   "outputs": [],
   "source": [
    "s3_client = boto3.client(service_name = 's3')"
   ]
  },
  {
   "cell_type": "markdown",
   "metadata": {},
   "source": [
    "### List all s3 buckets"
   ]
  },
  {
   "cell_type": "code",
   "execution_count": null,
   "metadata": {
    "ExecuteTime": {
     "end_time": "2019-03-14T09:09:17.500588Z",
     "start_time": "2019-03-14T09:09:17.241724Z"
    }
   },
   "outputs": [],
   "source": [
    "## NAME key is the bucket name\n",
    "result = s3_client.list_buckets()\n",
    "pprint(result)"
   ]
  },
  {
   "cell_type": "markdown",
   "metadata": {
    "ExecuteTime": {
     "end_time": "2019-03-14T09:14:36.521680Z",
     "start_time": "2019-03-14T09:14:36.254643Z"
    }
   },
   "source": [
    "### List all objects in s3 bucket"
   ]
  },
  {
   "cell_type": "code",
   "execution_count": null,
   "metadata": {
    "ExecuteTime": {
     "end_time": "2019-03-14T09:14:36.521680Z",
     "start_time": "2019-03-14T09:14:36.254643Z"
    }
   },
   "outputs": [],
   "source": [
    "## KEY are the file names\n",
    "result = s3_client.list_objects(Bucket = \"datasparksahil\")\n",
    "pprint(result)"
   ]
  },
  {
   "cell_type": "markdown",
   "metadata": {
    "ExecuteTime": {
     "end_time": "2019-03-14T09:15:01.792930Z",
     "start_time": "2019-03-14T09:15:01.558379Z"
    }
   },
   "source": [
    "### Download file from s3"
   ]
  },
  {
   "cell_type": "code",
   "execution_count": null,
   "metadata": {
    "ExecuteTime": {
     "end_time": "2019-03-14T09:15:01.792930Z",
     "start_time": "2019-03-14T09:15:01.558379Z"
    }
   },
   "outputs": [],
   "source": [
    "# key = Name of the file after uploading to s3\n",
    "# Filename = local file name\n",
    "response = s3_client.download_file(Bucket='datasparksahil', Key='pipeline_demo.py', Filename=\"/home/sahil/Desktop/second_script.py\")\n",
    "pprint(response)"
   ]
  },
  {
   "cell_type": "markdown",
   "metadata": {
    "ExecuteTime": {
     "end_time": "2019-03-14T09:16:20.395479Z",
     "start_time": "2019-03-14T09:16:20.062646Z"
    }
   },
   "source": [
    "### Upload object to s3"
   ]
  },
  {
   "cell_type": "code",
   "execution_count": null,
   "metadata": {
    "ExecuteTime": {
     "end_time": "2019-03-14T09:16:20.395479Z",
     "start_time": "2019-03-14T09:16:20.062646Z"
    }
   },
   "outputs": [],
   "source": [
    "# key = Name of the file after uploading to s3\n",
    "# Filename = local file name\n",
    "response = s3_client.upload_file(Filename=\"./mydog.jpg\", Key=\"mydog.jpg\", Bucket=\"datasparksahil\")\n",
    "pprint(response)"
   ]
  },
  {
   "cell_type": "markdown",
   "metadata": {
    "ExecuteTime": {
     "end_time": "2019-03-13T20:47:54.747079Z",
     "start_time": "2019-03-13T20:47:54.740049Z"
    }
   },
   "source": [
    "# Dynamo DB\n",
    "\n",
    "The code is referenced from [here](https://sysadmins.co.za/interfacing-amazon-dynamodb-with-python-using-boto3/)\n",
    "\n",
    "The complete list of avaliable methods can be found [here](https://boto3.amazonaws.com/v1/documentation/api/latest/reference/services/dynamodb.html)"
   ]
  },
  {
   "cell_type": "markdown",
   "metadata": {
    "ExecuteTime": {
     "end_time": "2019-03-14T11:20:51.358333Z",
     "start_time": "2019-03-14T11:20:51.356113Z"
    }
   },
   "source": [
    "### Create client/resource"
   ]
  },
  {
   "cell_type": "code",
   "execution_count": null,
   "metadata": {
    "ExecuteTime": {
     "end_time": "2019-03-14T10:40:07.412741Z",
     "start_time": "2019-03-14T10:40:07.404536Z"
    }
   },
   "outputs": [],
   "source": [
    "dynamodb_client = boto3.client(\"dynamodb\")\n",
    "# dynamodb_resource = boto3.resource(\"dynamodb\")"
   ]
  },
  {
   "cell_type": "markdown",
   "metadata": {
    "ExecuteTime": {
     "end_time": "2019-03-14T11:19:16.447670Z",
     "start_time": "2019-03-14T11:19:16.264795Z"
    }
   },
   "source": [
    "### List all tables"
   ]
  },
  {
   "cell_type": "code",
   "execution_count": null,
   "metadata": {
    "ExecuteTime": {
     "end_time": "2019-03-14T11:19:16.447670Z",
     "start_time": "2019-03-14T11:19:16.264795Z"
    }
   },
   "outputs": [],
   "source": [
    "dynamodb_client.list_tables()"
   ]
  },
  {
   "cell_type": "markdown",
   "metadata": {
    "ExecuteTime": {
     "end_time": "2019-03-14T10:40:28.723108Z",
     "start_time": "2019-03-14T10:40:28.679971Z"
    }
   },
   "source": [
    "### Create table "
   ]
  },
  {
   "cell_type": "code",
   "execution_count": null,
   "metadata": {
    "ExecuteTime": {
     "end_time": "2019-03-14T10:40:28.723108Z",
     "start_time": "2019-03-14T10:40:28.679971Z"
    }
   },
   "outputs": [],
   "source": [
    "# specify parameters\n",
    "params = {\n",
    "    'TableName' : \"taxi_fleet_dynamodb\",\n",
    "    'KeySchema': [       \n",
    "        { 'AttributeName': \"car_id\", 'KeyType': \"HASH\"},    # Partition key\n",
    "    ],\n",
    "    'AttributeDefinitions': [       \n",
    "        { 'AttributeName': \"car_id\", 'AttributeType': \"N\" }, # column type for partition key - N means number\n",
    "    ],\n",
    "    'ProvisionedThroughput': {        \n",
    "        'ReadCapacityUnits': 5, \n",
    "        'WriteCapacityUnits': 5\n",
    "    }\n",
    "}\n",
    "response = dynamodb_client.create_table(**params)\n",
    "pprint(response)"
   ]
  },
  {
   "cell_type": "markdown",
   "metadata": {
    "ExecuteTime": {
     "end_time": "2019-03-14T09:26:27.772568Z",
     "start_time": "2019-03-14T09:26:27.768644Z"
    }
   },
   "source": [
    "### Describe Table\n",
    "\n",
    "It takes a couple of minutes to provision a table after you have created it. You can see the status with the **describe_table()** command"
   ]
  },
  {
   "cell_type": "code",
   "execution_count": null,
   "metadata": {
    "ExecuteTime": {
     "end_time": "2019-03-14T10:41:48.176924Z",
     "start_time": "2019-03-14T10:41:48.040047Z"
    }
   },
   "outputs": [],
   "source": [
    "response = dynamodb_client.describe_table(TableName='taxi_fleet_dynamodb')\n",
    "pprint(response)"
   ]
  },
  {
   "cell_type": "markdown",
   "metadata": {},
   "source": [
    "### Put Item : Using Client (Longer Method)"
   ]
  },
  {
   "cell_type": "code",
   "execution_count": null,
   "metadata": {
    "ExecuteTime": {
     "end_time": "2019-03-14T10:45:16.564684Z",
     "start_time": "2019-03-14T10:45:16.407074Z"
    }
   },
   "outputs": [],
   "source": [
    "# put values using client - little bit long\n",
    "response = dynamodb_client.put_item(TableName=\"taxi_fleet_dynamodb\",\n",
    "                                    Item = {'car_id':       {\"N\":str(random.randint(1,5))}, \n",
    "                                            'pick_up_time': {\"S\":str(pd.to_datetime('now'))},\n",
    "                                            'fuel_level':   {\"N\":str(random.randint(1,100))},\n",
    "                                            'car_health':   {\"N\":str(random.randint(0,100))},\n",
    "                                            'warning':      {\"N\":str(random.randint(0,10))},\n",
    "                                           }\n",
    "                                   )\n",
    "pprint(response)"
   ]
  },
  {
   "cell_type": "markdown",
   "metadata": {
    "ExecuteTime": {
     "end_time": "2019-03-14T10:31:22.202095Z",
     "start_time": "2019-03-14T10:31:22.141284Z"
    }
   },
   "source": [
    "### Put Item : Using Resource (Easier Method)"
   ]
  },
  {
   "cell_type": "code",
   "execution_count": null,
   "metadata": {
    "ExecuteTime": {
     "end_time": "2019-03-14T10:47:55.913957Z",
     "start_time": "2019-03-14T10:47:55.734055Z"
    }
   },
   "outputs": [],
   "source": [
    "# put item using using primary and sort key (if sort key is set).\n",
    "# if the item already exist then its value will be updated\n",
    "\n",
    "# declare table\n",
    "dynamo_db_table = boto3.resource('dynamodb').Table(\"taxi_fleet_dynamodb\")\n",
    "# put items\n",
    "response = dynamo_db_table.put_item(Item = {'car_id':random.randint(1,5), \n",
    "                                            'pick_up_time': str(pd.to_datetime('now')),\n",
    "                                            'fuel_level':random.randint(1,100),\n",
    "                                            'car_health':random.randint(0,100),\n",
    "                                            'warning':random.randint(0,10),\n",
    "                                           }\n",
    "                                   )\n",
    "pprint(response)"
   ]
  },
  {
   "cell_type": "markdown",
   "metadata": {},
   "source": [
    "### Put Item - Multiple in a loop"
   ]
  },
  {
   "cell_type": "code",
   "execution_count": null,
   "metadata": {
    "ExecuteTime": {
     "end_time": "2019-03-14T11:09:00.912900Z",
     "start_time": "2019-03-14T11:08:54.294445Z"
    }
   },
   "outputs": [],
   "source": [
    "# put multiple items - only 5 items per second(WriteCapacityUnits)\n",
    "import time\n",
    "\n",
    "# declare table\n",
    "dynamo_db_table = boto3.resource('dynamodb').Table(\"taxi_fleet_dynamodb\")\n",
    "# put items\n",
    "for i in range(20):\n",
    "    response = dynamo_db_table.put_item(Item = {'car_id':random.randint(1,5), \n",
    "                                                'pick_up_time': str(pd.to_datetime('now')),\n",
    "                                                'fuel_level':random.randint(1,100),\n",
    "                                                'car_health':random.randint(0,100),\n",
    "                                                'warning':random.randint(0,10),\n",
    "                                               }\n",
    "                                       )\n",
    "    time.sleep(0.3)"
   ]
  },
  {
   "cell_type": "markdown",
   "metadata": {},
   "source": [
    "### BatchWrite - TODO"
   ]
  },
  {
   "cell_type": "markdown",
   "metadata": {},
   "source": [
    "### Delete item : Provide both Primary Key and Sort Key(if sort key is set)"
   ]
  },
  {
   "cell_type": "code",
   "execution_count": null,
   "metadata": {
    "ExecuteTime": {
     "end_time": "2019-03-14T11:10:08.331247Z",
     "start_time": "2019-03-14T11:10:08.302591Z"
    }
   },
   "outputs": [],
   "source": [
    "dynamo_db_table.delete_item(\n",
    "        Key={\n",
    "        'car_id': 1\n",
    "        }\n",
    ")"
   ]
  },
  {
   "cell_type": "markdown",
   "metadata": {},
   "source": [
    "### Query Table : Based on Primary Key and Sort Key\n",
    "\n",
    "A query operation searches only primary key attribute values and supports a subset of comparison operators on key attribute values to refine the search process."
   ]
  },
  {
   "cell_type": "code",
   "execution_count": null,
   "metadata": {
    "ExecuteTime": {
     "end_time": "2019-03-14T11:12:29.802964Z",
     "start_time": "2019-03-14T11:12:29.656992Z"
    }
   },
   "outputs": [],
   "source": [
    "from boto3.dynamodb.conditions import Key, Attr\n",
    "response = dynamo_db_table.query(\n",
    "    KeyConditionExpression=Key('car_id').eq(4) \n",
    ")\n",
    "\n",
    "pprint(response)"
   ]
  },
  {
   "cell_type": "markdown",
   "metadata": {},
   "source": [
    "### Scan Based on Non-Key Items\n",
    "\n",
    "**AVOID USING SCANS** \n",
    "\n",
    "A scan operation scans the entire table. You can specify filters to apply to the results to refine the values returned to you, after the complete scan."
   ]
  },
  {
   "cell_type": "code",
   "execution_count": null,
   "metadata": {
    "ExecuteTime": {
     "end_time": "2019-03-14T11:16:39.047015Z",
     "start_time": "2019-03-14T11:16:38.855425Z"
    }
   },
   "outputs": [],
   "source": [
    "response = dynamo_db_table.scan(\n",
    "    FilterExpression=Attr('car_health').eq(61)\n",
    ")\n",
    "pprint(response)"
   ]
  },
  {
   "cell_type": "markdown",
   "metadata": {},
   "source": [
    "### Difference between Scan and Query\n",
    "\n",
    "[what-is-the-difference-between-scan-and-query-in-dynamodb-when-use-scan-query](https://stackoverflow.com/questions/43452219/what-is-the-difference-between-scan-and-query-in-dynamodb-when-use-scan-query)"
   ]
  },
  {
   "cell_type": "markdown",
   "metadata": {},
   "source": [
    "### Deleting Table"
   ]
  },
  {
   "cell_type": "code",
   "execution_count": null,
   "metadata": {
    "ExecuteTime": {
     "end_time": "2019-03-14T11:19:27.164328Z",
     "start_time": "2019-03-14T11:19:26.922034Z"
    }
   },
   "outputs": [],
   "source": [
    "response = dynamodb_client.delete_table(TableName=\"hello_world_sahil\")\n",
    "pprint(response)"
   ]
  },
  {
   "cell_type": "markdown",
   "metadata": {},
   "source": [
    "# Postgres RDS\n",
    "\n",
    "Boto3 is used inly for creating/configuring/destroying the EC2 instances for the RDS.\n",
    "For all other purposes, we use other libraries mentioned below \n",
    "\n",
    "Option 1 : To connect with any AWS RDS, you need to install **SQLAlchemy**\n",
    "\n",
    "Option 2 : Use only **psycopg2** to connect to postgres only\n",
    "\n",
    "I prefer option 1(SQLAlchemy), since you can use this method for connecting to follwoing databases,\n",
    "otherwise you will have to learn libraries for various databases themselves.\n",
    "* PostgreSQL\n",
    "* MySQL\n",
    "* SQLite\n",
    "* Oracle\n",
    "* Microsoft SQL Server\n",
    "* Firebird\n",
    "* Sybase\n"
   ]
  },
  {
   "cell_type": "code",
   "execution_count": null,
   "metadata": {
    "ExecuteTime": {
     "end_time": "2019-03-14T11:51:37.191368Z",
     "start_time": "2019-03-14T11:51:37.184266Z"
    }
   },
   "outputs": [],
   "source": [
    "pip install sqlalchemy"
   ]
  },
  {
   "cell_type": "markdown",
   "metadata": {},
   "source": [
    "### Create Client/Resource"
   ]
  },
  {
   "cell_type": "code",
   "execution_count": null,
   "metadata": {
    "ExecuteTime": {
     "end_time": "2019-03-14T12:23:51.494433Z",
     "start_time": "2019-03-14T12:23:51.441491Z"
    }
   },
   "outputs": [],
   "source": [
    "rds_client = boto3.client(\"rds\")"
   ]
  },
  {
   "cell_type": "markdown",
   "metadata": {},
   "source": [
    "### Create database (TODO)"
   ]
  },
  {
   "cell_type": "code",
   "execution_count": null,
   "metadata": {
    "ExecuteTime": {
     "end_time": "2019-03-14T11:42:23.235006Z",
     "start_time": "2019-03-14T11:42:23.223720Z"
    }
   },
   "outputs": [],
   "source": [
    "# rds_client.create_db_instance(DBInstanceIdentifier=\"demo_postgres_db\", # unique name for ur AWS account and region\n",
    "#                                AllocatedStorage=20,                    # storage capacity 20GB\n",
    "#                                DBName='taxi_fleet_db',                 # name of database to create after insitnace has been initialized, if none then 'postgres' will be DBNAME\n",
    "#                                Engine='postgres',                      # type of database\n",
    "#                                MultiAZ=False,\n",
    "#                                MasterUsername='sahil',\n",
    "#                                MasterUserPassword='charlie_bravo',\n",
    "#                                DBInstanceClass='db.t2.micro')"
   ]
  },
  {
   "cell_type": "markdown",
   "metadata": {},
   "source": [
    "### Connect to database\n",
    "\n",
    "We will use sqlalchemy to execurte a database"
   ]
  },
  {
   "cell_type": "code",
   "execution_count": null,
   "metadata": {
    "ExecuteTime": {
     "end_time": "2019-03-14T11:59:53.267052Z",
     "start_time": "2019-03-14T11:59:53.200499Z"
    }
   },
   "outputs": [],
   "source": [
    "from sqlalchemy import create_engine"
   ]
  },
  {
   "cell_type": "code",
   "execution_count": null,
   "metadata": {
    "ExecuteTime": {
     "end_time": "2019-03-14T12:17:09.967696Z",
     "start_time": "2019-03-14T12:17:09.957914Z"
    }
   },
   "outputs": [],
   "source": [
    "POSTGRES_USERNAME = \"username\"\n",
    "POSTGRES_PASSWORD = \"password\"\n",
    "POSTGRES_DBNAME = \"postgres\"\n",
    "POSTGRES_HOST = \"ip of machine\"\n",
    "\n",
    "url = 'postgresql://{}:{}@{}:{}/{}'.format(POSTGRES_USERNAME, POSTGRES_PASSWORD, POSTGRES_HOST, 5432, POSTGRES_DBNAME)\n",
    "print(url)\n",
    "engine = create_engine(url)"
   ]
  },
  {
   "cell_type": "markdown",
   "metadata": {},
   "source": [
    "### List all table names"
   ]
  },
  {
   "cell_type": "code",
   "execution_count": null,
   "metadata": {
    "ExecuteTime": {
     "end_time": "2019-03-14T12:22:24.556505Z",
     "start_time": "2019-03-14T12:22:24.037503Z"
    }
   },
   "outputs": [],
   "source": [
    "engine.table_names()"
   ]
  },
  {
   "cell_type": "markdown",
   "metadata": {},
   "source": [
    "### Create table"
   ]
  },
  {
   "cell_type": "code",
   "execution_count": null,
   "metadata": {
    "ExecuteTime": {
     "end_time": "2019-03-14T12:30:04.321964Z",
     "start_time": "2019-03-14T12:30:04.271536Z"
    }
   },
   "outputs": [],
   "source": [
    "result = engine.execute(\"CREATE TABLE IF NOT EXISTS films (title text, director text, year text);\")"
   ]
  },
  {
   "cell_type": "markdown",
   "metadata": {},
   "source": [
    "### Insert into table"
   ]
  },
  {
   "cell_type": "code",
   "execution_count": null,
   "metadata": {
    "ExecuteTime": {
     "end_time": "2019-03-14T12:38:22.208100Z",
     "start_time": "2019-03-14T12:38:22.084288Z"
    }
   },
   "outputs": [],
   "source": [
    "engine.execute(\"INSERT INTO films (title, director, year) VALUES ('Doctor Strange', 'Scott Derrickson', '2016');\")\n",
    "engine.execute(\"INSERT INTO films (title, director, year) VALUES ('Titanic', 'Richard Brown', '2010');\")"
   ]
  },
  {
   "cell_type": "markdown",
   "metadata": {},
   "source": [
    "### Read from table"
   ]
  },
  {
   "cell_type": "code",
   "execution_count": null,
   "metadata": {
    "ExecuteTime": {
     "end_time": "2019-03-14T12:38:45.165211Z",
     "start_time": "2019-03-14T12:38:45.122740Z"
    }
   },
   "outputs": [],
   "source": [
    "result_set = engine.execute(\"SELECT * FROM films\")  \n",
    "for r in result_set:  \n",
    "    print(r)"
   ]
  },
  {
   "cell_type": "markdown",
   "metadata": {},
   "source": [
    "### Read from table - into a pandas dataframe"
   ]
  },
  {
   "cell_type": "code",
   "execution_count": null,
   "metadata": {
    "ExecuteTime": {
     "end_time": "2019-03-14T12:39:58.435542Z",
     "start_time": "2019-03-14T12:39:57.878174Z"
    }
   },
   "outputs": [],
   "source": [
    "import pandas as pd\n",
    "df = pd.read_sql_query(\"select * from films;\", con=engine)\n",
    "df.head()"
   ]
  },
  {
   "cell_type": "markdown",
   "metadata": {},
   "source": [
    "### Update values in table"
   ]
  },
  {
   "cell_type": "code",
   "execution_count": null,
   "metadata": {},
   "outputs": [],
   "source": [
    "engine.execute(\"UPDATE films SET title='Some2016Film' WHERE year='2016'\")"
   ]
  },
  {
   "cell_type": "markdown",
   "metadata": {
    "ExecuteTime": {
     "end_time": "2019-03-14T12:28:40.686614Z",
     "start_time": "2019-03-14T12:28:40.680885Z"
    }
   },
   "source": [
    "### Delete values from table"
   ]
  },
  {
   "cell_type": "code",
   "execution_count": null,
   "metadata": {
    "ExecuteTime": {
     "end_time": "2019-03-14T12:40:57.687267Z",
     "start_time": "2019-03-14T12:40:57.630196Z"
    }
   },
   "outputs": [],
   "source": [
    "engine.execute(\"DELETE FROM films WHERE year='2016'\")  "
   ]
  },
  {
   "cell_type": "markdown",
   "metadata": {},
   "source": [
    "## MySQL"
   ]
  },
  {
   "cell_type": "markdown",
   "metadata": {},
   "source": [
    "We need **sqlalchmey** library to interact with MySQL"
   ]
  },
  {
   "cell_type": "code",
   "execution_count": null,
   "metadata": {
    "ExecuteTime": {
     "end_time": "2019-03-20T18:16:09.131251Z",
     "start_time": "2019-03-20T18:16:09.128724Z"
    }
   },
   "outputs": [],
   "source": [
    "# !pip install sqlalchemy"
   ]
  },
  {
   "cell_type": "code",
   "execution_count": null,
   "metadata": {
    "ExecuteTime": {
     "end_time": "2019-03-20T18:28:49.305357Z",
     "start_time": "2019-03-20T18:28:49.232131Z"
    }
   },
   "outputs": [],
   "source": [
    "from sqlalchemy import create_engine"
   ]
  },
  {
   "cell_type": "markdown",
   "metadata": {},
   "source": [
    "### Create connection to mysql"
   ]
  },
  {
   "cell_type": "code",
   "execution_count": null,
   "metadata": {
    "ExecuteTime": {
     "end_time": "2019-03-20T18:29:25.913186Z",
     "start_time": "2019-03-20T18:29:25.906204Z"
    }
   },
   "outputs": [],
   "source": [
    "USERNAME = \"\"\n",
    "PASSWORD = \"\"\n",
    "DBNAME = \"\"\n",
    "HOST = \"\"\n",
    "\n",
    "url = 'mysql+pymysql://{}:{}@{}:{}/{}'.format(USERNAME, PASSWORD, HOST, 3306, DBNAME)\n",
    "print(url)\n",
    "engine = create_engine(url)"
   ]
  },
  {
   "cell_type": "markdown",
   "metadata": {},
   "source": [
    "### List all tables"
   ]
  },
  {
   "cell_type": "code",
   "execution_count": null,
   "metadata": {
    "ExecuteTime": {
     "end_time": "2019-03-20T18:29:27.323915Z",
     "start_time": "2019-03-20T18:29:27.061886Z"
    }
   },
   "outputs": [],
   "source": [
    "engine.table_names()"
   ]
  },
  {
   "cell_type": "markdown",
   "metadata": {},
   "source": [
    "### Create Table"
   ]
  },
  {
   "cell_type": "code",
   "execution_count": null,
   "metadata": {
    "ExecuteTime": {
     "end_time": "2019-03-20T18:29:30.116351Z",
     "start_time": "2019-03-20T18:29:30.048197Z"
    }
   },
   "outputs": [],
   "source": [
    "result = engine.execute(\"CREATE TABLE IF NOT EXISTS films (title text, director text, year text);\")\n",
    "print(result)"
   ]
  },
  {
   "cell_type": "markdown",
   "metadata": {},
   "source": [
    "### Insert into table"
   ]
  },
  {
   "cell_type": "code",
   "execution_count": null,
   "metadata": {
    "ExecuteTime": {
     "end_time": "2019-03-20T18:29:53.778931Z",
     "start_time": "2019-03-20T18:29:53.482420Z"
    }
   },
   "outputs": [],
   "source": [
    "engine.execute(\"INSERT INTO films (title, director, year) VALUES ('Doctor Strange', 'Scott Derrickson', '2016');\")\n",
    "engine.execute(\"INSERT INTO films (title, director, year) VALUES ('Titanic', 'Richard Brown', '2010');\")"
   ]
  },
  {
   "cell_type": "markdown",
   "metadata": {},
   "source": [
    "### Show values from table"
   ]
  },
  {
   "cell_type": "code",
   "execution_count": null,
   "metadata": {
    "ExecuteTime": {
     "end_time": "2019-03-20T18:20:15.798332Z",
     "start_time": "2019-03-20T18:20:15.759774Z"
    }
   },
   "outputs": [],
   "source": [
    "result_set = engine.execute(\"SELECT * FROM films\")  \n",
    "for r in result_set:  \n",
    "    print(r)"
   ]
  },
  {
   "cell_type": "markdown",
   "metadata": {},
   "source": [
    "### Read from table - into a pandas dataframe"
   ]
  },
  {
   "cell_type": "code",
   "execution_count": null,
   "metadata": {
    "ExecuteTime": {
     "end_time": "2019-03-20T18:20:26.420347Z",
     "start_time": "2019-03-20T18:20:26.370981Z"
    }
   },
   "outputs": [],
   "source": [
    "import pandas as pd\n",
    "df = pd.read_sql_query(\"select * from films;\", con=engine)\n",
    "df.head()"
   ]
  },
  {
   "cell_type": "markdown",
   "metadata": {},
   "source": [
    "### Update values in table"
   ]
  },
  {
   "cell_type": "code",
   "execution_count": null,
   "metadata": {
    "ExecuteTime": {
     "end_time": "2019-03-20T18:20:20.007186Z",
     "start_time": "2019-03-20T18:20:19.956521Z"
    }
   },
   "outputs": [],
   "source": [
    "engine.execute(\"UPDATE films SET title='Doctor Strange 2' WHERE year='2016'\")"
   ]
  },
  {
   "cell_type": "markdown",
   "metadata": {},
   "source": [
    "### Delete values from table"
   ]
  },
  {
   "cell_type": "code",
   "execution_count": null,
   "metadata": {
    "ExecuteTime": {
     "end_time": "2019-03-20T18:20:24.517087Z",
     "start_time": "2019-03-20T18:20:24.458782Z"
    }
   },
   "outputs": [],
   "source": [
    "engine.execute(\"DELETE FROM films WHERE year='2016'\")  "
   ]
  },
  {
   "cell_type": "markdown",
   "metadata": {},
   "source": [
    "### Delete Table"
   ]
  },
  {
   "cell_type": "code",
   "execution_count": null,
   "metadata": {
    "ExecuteTime": {
     "end_time": "2019-03-20T18:20:28.814048Z",
     "start_time": "2019-03-20T18:20:28.762911Z"
    }
   },
   "outputs": [],
   "source": [
    "engine.execute(\"DROP TABLE films;\")"
   ]
  },
  {
   "cell_type": "markdown",
   "metadata": {},
   "source": [
    "## Microsoft SQL Server (TODO)"
   ]
  },
  {
   "cell_type": "markdown",
   "metadata": {},
   "source": [
    "We need **pyodbc** library to interact with SQL Server"
   ]
  },
  {
   "cell_type": "code",
   "execution_count": null,
   "metadata": {},
   "outputs": [],
   "source": [
    "# !pip3 install pyodbc"
   ]
  },
  {
   "cell_type": "code",
   "execution_count": null,
   "metadata": {
    "ExecuteTime": {
     "end_time": "2019-03-19T19:53:30.485189Z",
     "start_time": "2019-03-19T19:53:30.480164Z"
    }
   },
   "outputs": [],
   "source": [
    "# import sys\n",
    "# sys.path.insert(0, \"/usr/local/lib/python3.5/\")\n",
    "import pyodbc"
   ]
  },
  {
   "cell_type": "code",
   "execution_count": null,
   "metadata": {
    "ExecuteTime": {
     "end_time": "2019-03-19T19:58:19.046070Z",
     "start_time": "2019-03-19T19:58:19.037386Z"
    }
   },
   "outputs": [],
   "source": [
    "import pyodbc \n",
    "cnxn = pyodbc.connect(\"Driver={SQL Server};\"\n",
    "                        \"Server=sqlserverdemodb.cznthudneeub.eu-west-1.rds.amazonaws.com\"\n",
    "                        \"Database=master\"\n",
    "                        \"uid=sahil;pwd=abcdef1234\")\n",
    "# df = pd.read_sql_query('select * from table', cnxn)"
   ]
  },
  {
   "cell_type": "code",
   "execution_count": null,
   "metadata": {
    "ExecuteTime": {
     "end_time": "2019-03-19T19:58:15.393682Z",
     "start_time": "2019-03-19T19:58:15.371450Z"
    }
   },
   "outputs": [],
   "source": [
    "cursor = cnxn.cursor()\n",
    "cursor.execute('SELECT * FROM Table')\n",
    "\n",
    "for row in cursor:\n",
    "    print('row = %r' % (row,))"
   ]
  },
  {
   "cell_type": "code",
   "execution_count": null,
   "metadata": {},
   "outputs": [],
   "source": []
  }
 ],
 "metadata": {
  "kernelspec": {
   "display_name": "Python 3",
   "language": "python",
   "name": "python3"
  },
  "language_info": {
   "codemirror_mode": {
    "name": "ipython",
    "version": 3
   },
   "file_extension": ".py",
   "mimetype": "text/x-python",
   "name": "python",
   "nbconvert_exporter": "python",
   "pygments_lexer": "ipython3",
   "version": "3.5.2"
  }
 },
 "nbformat": 4,
 "nbformat_minor": 2
}
