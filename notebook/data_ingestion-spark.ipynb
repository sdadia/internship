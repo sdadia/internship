{
 "cells": [
  {
   "cell_type": "markdown",
   "metadata": {},
   "source": [
    "### Imports"
   ]
  },
  {
   "cell_type": "code",
   "execution_count": 1,
   "metadata": {
    "ExecuteTime": {
     "end_time": "2019-03-08T14:18:34.526891Z",
     "start_time": "2019-03-08T14:18:34.498786Z"
    }
   },
   "outputs": [
    {
     "data": {
      "text/html": [
       "<style>.container { width:100% !important; }</style>"
      ],
      "text/plain": [
       "<IPython.core.display.HTML object>"
      ]
     },
     "metadata": {},
     "output_type": "display_data"
    }
   ],
   "source": [
    "from IPython.core.display import display, HTML\n",
    "display(HTML(\"<style>.container { width:100% !important; }</style>\"))"
   ]
  },
  {
   "cell_type": "code",
   "execution_count": 2,
   "metadata": {
    "ExecuteTime": {
     "end_time": "2019-03-08T14:18:34.926221Z",
     "start_time": "2019-03-08T14:18:34.918385Z"
    }
   },
   "outputs": [],
   "source": [
    "# Suggestions :\n",
    "#     *Send the file over\n",
    "#     *See examples from roman\n",
    "#     *send data to postgres in AWS cloud -  remote database\n",
    "#     *Put links where from data is avaliable\n",
    "#     *Create notebook with decoratiors for interactive - present if possible"
   ]
  },
  {
   "cell_type": "code",
   "execution_count": 3,
   "metadata": {
    "ExecuteTime": {
     "end_time": "2019-03-08T14:18:38.100891Z",
     "start_time": "2019-03-08T14:18:35.314870Z"
    }
   },
   "outputs": [],
   "source": [
    "## imports\n",
    "import pandas as pd\n",
    "import numpy as np\n",
    "import sys\n",
    "from __future__ import print_function # \n",
    "from ipywidgets import interact, interactive, fixed, interact_manual\n",
    "import ipywidgets as widgets\n",
    "\n",
    "from pyspark.sql import SparkSession\n",
    "import os\n",
    "os.environ[\"PYSPARK_PYTHON\"]=\"/usr/bin/python3\"\n",
    "os.environ[\"PYSPARK_DRIVER_PYTHON\"]=\"/usr/bin/python3\"\n",
    " \n",
    "spark = SparkSession.builder.appName('Data Ingestion Spark')\\\n",
    "                            .master(\"local[2]\")\\\n",
    "                            .config(\"spark.driver.memory\", \"2g\")\\\n",
    "                            .getOrCreate()\n",
    "\n",
    "\n",
    "\n",
    "sys.path.insert(0, \"../\")\n",
    "from utility import converter, exporter, missing"
   ]
  },
  {
   "cell_type": "code",
   "execution_count": 135,
   "metadata": {
    "ExecuteTime": {
     "end_time": "2019-03-08T15:17:59.572989Z",
     "start_time": "2019-03-08T15:17:59.565222Z"
    }
   },
   "outputs": [
    {
     "data": {
      "text/html": [
       "\n",
       "            <div>\n",
       "                <p><b>SparkSession - in-memory</b></p>\n",
       "                \n",
       "        <div>\n",
       "            <p><b>SparkContext</b></p>\n",
       "\n",
       "            <p><a href=\"http://192.168.0.80:4040\">Spark UI</a></p>\n",
       "\n",
       "            <dl>\n",
       "              <dt>Version</dt>\n",
       "                <dd><code>v2.4.0</code></dd>\n",
       "              <dt>Master</dt>\n",
       "                <dd><code>local</code></dd>\n",
       "              <dt>AppName</dt>\n",
       "                <dd><code>Data Ingestion Spark</code></dd>\n",
       "            </dl>\n",
       "        </div>\n",
       "        \n",
       "            </div>\n",
       "        "
      ],
      "text/plain": [
       "<pyspark.sql.session.SparkSession at 0x7f76ab35c6d8>"
      ]
     },
     "execution_count": 135,
     "metadata": {},
     "output_type": "execute_result"
    }
   ],
   "source": [
    "spark"
   ]
  },
  {
   "cell_type": "markdown",
   "metadata": {},
   "source": [
    "### Setup"
   ]
  },
  {
   "cell_type": "markdown",
   "metadata": {},
   "source": [
    "#### CSV, Parquet"
   ]
  },
  {
   "cell_type": "code",
   "execution_count": 5,
   "metadata": {
    "ExecuteTime": {
     "end_time": "2019-03-08T14:20:45.150557Z",
     "start_time": "2019-03-08T14:20:45.138800Z"
    }
   },
   "outputs": [],
   "source": [
    "## change contents of this cell for loading files\n",
    "FILE_NAME = \"../data/new_merchant_transactions.csv\"\n",
    "FILE_FORMAT = \"csv\" # csv, numpy, parquet\n",
    "\n",
    "\n",
    "NEW_FILE_NAME = \"../data/new_merchant_transactions.parquet\"\n",
    "NEW_FILE_FORMAT = \"parquet\" # csv, numpy, parquet"
   ]
  },
  {
   "cell_type": "code",
   "execution_count": 78,
   "metadata": {
    "ExecuteTime": {
     "end_time": "2019-03-08T14:55:19.762580Z",
     "start_time": "2019-03-08T14:55:11.034690Z"
    }
   },
   "outputs": [],
   "source": [
    "# load data\n",
    "if(FILE_FORMAT == 'csv'):\n",
    "    data = spark.read.csv(FILE_NAME, header=True, inferSchema=True)\n",
    "elif(FILE_FORMAT == 'parquet'):\n",
    "    data = spark.read.parquet(FILE_NAME)\n",
    "else:\n",
    "    print(\"INCORRECT FILE FORMAT\")\n",
    "\n",
    "\n"
   ]
  },
  {
   "cell_type": "markdown",
   "metadata": {},
   "source": [
    "#### Database - Postgres"
   ]
  },
  {
   "cell_type": "code",
   "execution_count": 79,
   "metadata": {
    "ExecuteTime": {
     "end_time": "2019-03-08T14:55:21.039199Z",
     "start_time": "2019-03-08T14:55:21.036250Z"
    }
   },
   "outputs": [],
   "source": [
    "table_name = \"\"\n",
    "username = \"sahil\"\n",
    "database = \"spark_demo_db\"\n",
    "password = \"1234567890\"\n",
    "host = \"localhost\""
   ]
  },
  {
   "cell_type": "code",
   "execution_count": 80,
   "metadata": {
    "ExecuteTime": {
     "end_time": "2019-03-08T14:55:22.414065Z",
     "start_time": "2019-03-08T14:55:22.409814Z"
    }
   },
   "outputs": [],
   "source": [
    "## Read from Database\n",
    "from sqlalchemy import create_engine\n",
    "if table_name != \"\":\n",
    "    engine = create_engine('postgresql://{}:{}@{}:5432/{}'.format(username, password, host, database))\n",
    "    data = pd.read_sql_table(table_name, engine)"
   ]
  },
  {
   "cell_type": "markdown",
   "metadata": {},
   "source": [
    "### Basic Sanity Check"
   ]
  },
  {
   "cell_type": "code",
   "execution_count": 81,
   "metadata": {
    "ExecuteTime": {
     "end_time": "2019-03-08T14:55:23.278317Z",
     "start_time": "2019-03-08T14:55:23.228734Z"
    }
   },
   "outputs": [],
   "source": [
    "# Convert Column names to lower case, replace spaces with _ (underscore)\n",
    "for col in data.columns:\n",
    "    data = data.withColumnRenamed(col, col.lower().replace(\" \", \"\"))"
   ]
  },
  {
   "cell_type": "code",
   "execution_count": 82,
   "metadata": {
    "ExecuteTime": {
     "end_time": "2019-03-08T14:55:23.777467Z",
     "start_time": "2019-03-08T14:55:23.761939Z"
    }
   },
   "outputs": [
    {
     "name": "stdout",
     "output_type": "stream",
     "text": [
      "['authorized_flag',\n",
      " 'card_id',\n",
      " 'category_1',\n",
      " 'category_2',\n",
      " 'category_3',\n",
      " 'city_id',\n",
      " 'installments',\n",
      " 'merchant_category_id',\n",
      " 'merchant_id',\n",
      " 'month_lag',\n",
      " 'purchase_amount',\n",
      " 'purchase_date',\n",
      " 'state_id',\n",
      " 'subsector_id']\n"
     ]
    }
   ],
   "source": [
    "## Display column names\n",
    "from pprint import pprint\n",
    "pprint(sorted(list(data.columns)))"
   ]
  },
  {
   "cell_type": "code",
   "execution_count": 83,
   "metadata": {
    "ExecuteTime": {
     "end_time": "2019-03-08T14:55:24.855553Z",
     "start_time": "2019-03-08T14:55:24.197130Z"
    }
   },
   "outputs": [
    {
     "data": {
      "text/plain": [
       "(1963031, 14)"
      ]
     },
     "execution_count": 83,
     "metadata": {},
     "output_type": "execute_result"
    }
   ],
   "source": [
    "## Shape of dataframe\n",
    "data.count(), len(data.columns)"
   ]
  },
  {
   "cell_type": "code",
   "execution_count": 84,
   "metadata": {
    "ExecuteTime": {
     "end_time": "2019-03-08T14:55:24.859426Z",
     "start_time": "2019-03-08T14:55:24.856734Z"
    }
   },
   "outputs": [
    {
     "name": "stdout",
     "output_type": "stream",
     "text": [
      "root\n",
      " |-- authorized_flag: string (nullable = true)\n",
      " |-- card_id: string (nullable = true)\n",
      " |-- city_id: integer (nullable = true)\n",
      " |-- category_1: string (nullable = true)\n",
      " |-- installments: integer (nullable = true)\n",
      " |-- category_3: string (nullable = true)\n",
      " |-- merchant_category_id: integer (nullable = true)\n",
      " |-- merchant_id: string (nullable = true)\n",
      " |-- month_lag: integer (nullable = true)\n",
      " |-- purchase_amount: double (nullable = true)\n",
      " |-- purchase_date: timestamp (nullable = true)\n",
      " |-- category_2: double (nullable = true)\n",
      " |-- state_id: integer (nullable = true)\n",
      " |-- subsector_id: integer (nullable = true)\n",
      "\n"
     ]
    }
   ],
   "source": [
    "data.printSchema()"
   ]
  },
  {
   "cell_type": "code",
   "execution_count": 85,
   "metadata": {
    "ExecuteTime": {
     "end_time": "2019-03-08T14:55:25.904098Z",
     "start_time": "2019-03-08T14:55:25.805518Z"
    }
   },
   "outputs": [
    {
     "data": {
      "text/html": [
       "<div>\n",
       "<style scoped>\n",
       "    .dataframe tbody tr th:only-of-type {\n",
       "        vertical-align: middle;\n",
       "    }\n",
       "\n",
       "    .dataframe tbody tr th {\n",
       "        vertical-align: top;\n",
       "    }\n",
       "\n",
       "    .dataframe thead th {\n",
       "        text-align: right;\n",
       "    }\n",
       "</style>\n",
       "<table border=\"1\" class=\"dataframe\">\n",
       "  <thead>\n",
       "    <tr style=\"text-align: right;\">\n",
       "      <th></th>\n",
       "      <th>authorized_flag</th>\n",
       "      <th>card_id</th>\n",
       "      <th>city_id</th>\n",
       "      <th>category_1</th>\n",
       "      <th>installments</th>\n",
       "      <th>category_3</th>\n",
       "      <th>merchant_category_id</th>\n",
       "      <th>merchant_id</th>\n",
       "      <th>month_lag</th>\n",
       "      <th>purchase_amount</th>\n",
       "      <th>purchase_date</th>\n",
       "      <th>category_2</th>\n",
       "      <th>state_id</th>\n",
       "      <th>subsector_id</th>\n",
       "    </tr>\n",
       "  </thead>\n",
       "  <tbody>\n",
       "    <tr>\n",
       "      <th>0</th>\n",
       "      <td>Y</td>\n",
       "      <td>C_ID_415bb3a509</td>\n",
       "      <td>107</td>\n",
       "      <td>N</td>\n",
       "      <td>1</td>\n",
       "      <td>B</td>\n",
       "      <td>307</td>\n",
       "      <td>M_ID_b0c793002c</td>\n",
       "      <td>1</td>\n",
       "      <td>-0.557574</td>\n",
       "      <td>2018-03-11 14:57:36</td>\n",
       "      <td>1.0</td>\n",
       "      <td>9</td>\n",
       "      <td>19</td>\n",
       "    </tr>\n",
       "    <tr>\n",
       "      <th>1</th>\n",
       "      <td>Y</td>\n",
       "      <td>C_ID_415bb3a509</td>\n",
       "      <td>140</td>\n",
       "      <td>N</td>\n",
       "      <td>1</td>\n",
       "      <td>B</td>\n",
       "      <td>307</td>\n",
       "      <td>M_ID_88920c89e8</td>\n",
       "      <td>1</td>\n",
       "      <td>-0.569580</td>\n",
       "      <td>2018-03-19 18:53:37</td>\n",
       "      <td>1.0</td>\n",
       "      <td>9</td>\n",
       "      <td>19</td>\n",
       "    </tr>\n",
       "    <tr>\n",
       "      <th>2</th>\n",
       "      <td>Y</td>\n",
       "      <td>C_ID_415bb3a509</td>\n",
       "      <td>330</td>\n",
       "      <td>N</td>\n",
       "      <td>1</td>\n",
       "      <td>B</td>\n",
       "      <td>507</td>\n",
       "      <td>M_ID_ad5237ef6b</td>\n",
       "      <td>2</td>\n",
       "      <td>-0.551037</td>\n",
       "      <td>2018-04-26 14:08:44</td>\n",
       "      <td>1.0</td>\n",
       "      <td>9</td>\n",
       "      <td>14</td>\n",
       "    </tr>\n",
       "    <tr>\n",
       "      <th>3</th>\n",
       "      <td>Y</td>\n",
       "      <td>C_ID_415bb3a509</td>\n",
       "      <td>-1</td>\n",
       "      <td>Y</td>\n",
       "      <td>1</td>\n",
       "      <td>B</td>\n",
       "      <td>661</td>\n",
       "      <td>M_ID_9e84cda3b1</td>\n",
       "      <td>1</td>\n",
       "      <td>-0.671925</td>\n",
       "      <td>2018-03-07 09:43:21</td>\n",
       "      <td>NaN</td>\n",
       "      <td>-1</td>\n",
       "      <td>8</td>\n",
       "    </tr>\n",
       "    <tr>\n",
       "      <th>4</th>\n",
       "      <td>Y</td>\n",
       "      <td>C_ID_ef55cf8d4b</td>\n",
       "      <td>-1</td>\n",
       "      <td>Y</td>\n",
       "      <td>1</td>\n",
       "      <td>B</td>\n",
       "      <td>166</td>\n",
       "      <td>M_ID_3c86fa3831</td>\n",
       "      <td>1</td>\n",
       "      <td>-0.659904</td>\n",
       "      <td>2018-03-22 21:07:53</td>\n",
       "      <td>NaN</td>\n",
       "      <td>-1</td>\n",
       "      <td>29</td>\n",
       "    </tr>\n",
       "  </tbody>\n",
       "</table>\n",
       "</div>"
      ],
      "text/plain": [
       "  authorized_flag          card_id  city_id category_1  installments  \\\n",
       "0               Y  C_ID_415bb3a509      107          N             1   \n",
       "1               Y  C_ID_415bb3a509      140          N             1   \n",
       "2               Y  C_ID_415bb3a509      330          N             1   \n",
       "3               Y  C_ID_415bb3a509       -1          Y             1   \n",
       "4               Y  C_ID_ef55cf8d4b       -1          Y             1   \n",
       "\n",
       "  category_3  merchant_category_id      merchant_id  month_lag  \\\n",
       "0          B                   307  M_ID_b0c793002c          1   \n",
       "1          B                   307  M_ID_88920c89e8          1   \n",
       "2          B                   507  M_ID_ad5237ef6b          2   \n",
       "3          B                   661  M_ID_9e84cda3b1          1   \n",
       "4          B                   166  M_ID_3c86fa3831          1   \n",
       "\n",
       "   purchase_amount       purchase_date  category_2  state_id  subsector_id  \n",
       "0        -0.557574 2018-03-11 14:57:36         1.0         9            19  \n",
       "1        -0.569580 2018-03-19 18:53:37         1.0         9            19  \n",
       "2        -0.551037 2018-04-26 14:08:44         1.0         9            14  \n",
       "3        -0.671925 2018-03-07 09:43:21         NaN        -1             8  \n",
       "4        -0.659904 2018-03-22 21:07:53         NaN        -1            29  "
      ]
     },
     "execution_count": 85,
     "metadata": {},
     "output_type": "execute_result"
    }
   ],
   "source": [
    "## show data\n",
    "data.limit(5).toPandas().head(5)"
   ]
  },
  {
   "cell_type": "code",
   "execution_count": 86,
   "metadata": {
    "ExecuteTime": {
     "end_time": "2019-03-08T14:55:31.155401Z",
     "start_time": "2019-03-08T14:55:31.051837Z"
    }
   },
   "outputs": [
    {
     "data": {
      "application/vnd.jupyter.widget-view+json": {
       "model_id": "fdf39391112845da9d2f0a554fabe71c",
       "version_major": 2,
       "version_minor": 0
      },
      "text/html": [
       "<p>Failed to display Jupyter Widget of type <code>interactive</code>.</p>\n",
       "<p>\n",
       "  If you're reading this message in the Jupyter Notebook or JupyterLab Notebook, it may mean\n",
       "  that the widgets JavaScript is still loading. If this message persists, it\n",
       "  likely means that the widgets JavaScript library is either not installed or\n",
       "  not enabled. See the <a href=\"https://ipywidgets.readthedocs.io/en/stable/user_install.html\">Jupyter\n",
       "  Widgets Documentation</a> for setup instructions.\n",
       "</p>\n",
       "<p>\n",
       "  If you're reading this message in another frontend (for example, a static\n",
       "  rendering on GitHub or <a href=\"https://nbviewer.jupyter.org/\">NBViewer</a>),\n",
       "  it may mean that your frontend doesn't currently support widgets.\n",
       "</p>\n"
      ],
      "text/plain": [
       "interactive(children=(Dropdown(description='column', options=('authorized_flag', 'card_id', 'category_1', 'category_2', 'category_3', 'city_id', 'installments', 'merchant_category_id', 'merchant_id', 'month_lag', 'purchase_amount', 'purchase_date', 'state_id', 'subsector_id'), value='authorized_flag'), Output()), _dom_classes=('widget-interact',))"
      ]
     },
     "metadata": {},
     "output_type": "display_data"
    }
   ],
   "source": [
    "## put more descriptions of how this was achieved-\n",
    "## spend time to understand how decorators work - Object Oriented Python , TDD\n",
    "@interact\n",
    "def show_articles_more_than(column=sorted(list(data.columns))):\n",
    "    return data.select(column).limit(15).toPandas()"
   ]
  },
  {
   "cell_type": "markdown",
   "metadata": {},
   "source": [
    "### Convert to correct type"
   ]
  },
  {
   "cell_type": "code",
   "execution_count": 107,
   "metadata": {
    "ExecuteTime": {
     "end_time": "2019-03-08T14:59:06.498595Z",
     "start_time": "2019-03-08T14:59:06.464525Z"
    }
   },
   "outputs": [],
   "source": [
    "from pyspark.sql.functions import col, to_timestamp\n",
    "def convert_to(data, column_list, new_type, inplace=True):\n",
    "    \"\"\"\n",
    "    Converts a set of columns to given type. Avaliable types are int, float, string, timestamp\n",
    "    \n",
    "    Parameters\n",
    "    ----------\n",
    "    data : Spark Dataframe\n",
    "    column_list : String or List\n",
    "        Names of column(s) which needs to be transformed\n",
    "    new_type:\n",
    "        \n",
    "    \n",
    "    \n",
    "    \"\"\"\n",
    "    # convert to list if a single string is passed\n",
    "    if isinstance(column_list, str):\n",
    "        column_list = [column_list]\n",
    "        \n",
    "    new_type = new_type.lower()\n",
    "    \n",
    "    for col_name in column_list:\n",
    "        if(inplace is True):\n",
    "            data = data.withColumn(col_name, col(col_name).cast(new_type))\n",
    "        else:\n",
    "            data = data.withColumn(col_name + \"_TS\", col(col_name).cast(new_type))\n",
    "        \n",
    "    \n",
    "    return data\n",
    "\n",
    "def convert_to_timestamp(data, column_list, timestamp_format, inplace=True):\n",
    "    \"\"\"\n",
    "    Converts a column from string to date time format\n",
    "    \"\"\"\n",
    "    if isinstance(column_list, str):\n",
    "        column_list = [column_list]\n",
    "    \n",
    "    for col_name in column_list:\n",
    "        if(inplace is True):\n",
    "            data = data.withColumn(col_name, to_timestamp(col_name, format=timestamp_format))\n",
    "        else:\n",
    "            data = data.withColumn(col_name + \"_TS\", to_timestamp(col_name, format=timestamp_format))\n",
    "    return data\n",
    "\n",
    "# data = converter.convert_to(data, [\"purchase_date\"], 'timestamp')"
   ]
  },
  {
   "cell_type": "code",
   "execution_count": 108,
   "metadata": {
    "ExecuteTime": {
     "end_time": "2019-03-08T14:59:06.954514Z",
     "start_time": "2019-03-08T14:59:06.940862Z"
    }
   },
   "outputs": [
    {
     "name": "stdout",
     "output_type": "stream",
     "text": [
      "root\n",
      " |-- authorized_flag: string (nullable = true)\n",
      " |-- card_id: string (nullable = true)\n",
      " |-- city_id: integer (nullable = true)\n",
      " |-- category_1: string (nullable = true)\n",
      " |-- installments: integer (nullable = true)\n",
      " |-- category_3: string (nullable = true)\n",
      " |-- merchant_category_id: integer (nullable = true)\n",
      " |-- merchant_id: string (nullable = true)\n",
      " |-- month_lag: integer (nullable = true)\n",
      " |-- purchase_amount: double (nullable = true)\n",
      " |-- purchase_date: timestamp (nullable = true)\n",
      " |-- category_2: double (nullable = true)\n",
      " |-- state_id: integer (nullable = true)\n",
      " |-- subsector_id: integer (nullable = true)\n",
      " |-- purchase_date_TS: string (nullable = true)\n",
      "\n"
     ]
    }
   ],
   "source": [
    "data = convert_to(data, \"purchase_date\", \"string\", inplace=False)\n",
    "data.printSchema()"
   ]
  },
  {
   "cell_type": "code",
   "execution_count": 109,
   "metadata": {
    "ExecuteTime": {
     "end_time": "2019-03-08T14:59:15.238942Z",
     "start_time": "2019-03-08T14:59:15.226365Z"
    }
   },
   "outputs": [
    {
     "name": "stdout",
     "output_type": "stream",
     "text": [
      "root\n",
      " |-- authorized_flag: string (nullable = true)\n",
      " |-- card_id: string (nullable = true)\n",
      " |-- city_id: integer (nullable = true)\n",
      " |-- category_1: string (nullable = true)\n",
      " |-- installments: integer (nullable = true)\n",
      " |-- category_3: string (nullable = true)\n",
      " |-- merchant_category_id: integer (nullable = true)\n",
      " |-- merchant_id: string (nullable = true)\n",
      " |-- month_lag: integer (nullable = true)\n",
      " |-- purchase_amount: double (nullable = true)\n",
      " |-- purchase_date: timestamp (nullable = true)\n",
      " |-- category_2: double (nullable = true)\n",
      " |-- state_id: integer (nullable = true)\n",
      " |-- subsector_id: integer (nullable = true)\n",
      " |-- purchase_date_TS: timestamp (nullable = true)\n",
      "\n"
     ]
    }
   ],
   "source": [
    "data = convert_to_timestamp(data, \"purchase_date_TS\", 'yyyy-MM-dd HH:mm:ss')\n",
    "data.printSchema()"
   ]
  },
  {
   "cell_type": "code",
   "execution_count": 111,
   "metadata": {
    "ExecuteTime": {
     "end_time": "2019-03-08T14:59:22.789449Z",
     "start_time": "2019-03-08T14:59:22.680092Z"
    }
   },
   "outputs": [
    {
     "data": {
      "text/html": [
       "<div>\n",
       "<style scoped>\n",
       "    .dataframe tbody tr th:only-of-type {\n",
       "        vertical-align: middle;\n",
       "    }\n",
       "\n",
       "    .dataframe tbody tr th {\n",
       "        vertical-align: top;\n",
       "    }\n",
       "\n",
       "    .dataframe thead th {\n",
       "        text-align: right;\n",
       "    }\n",
       "</style>\n",
       "<table border=\"1\" class=\"dataframe\">\n",
       "  <thead>\n",
       "    <tr style=\"text-align: right;\">\n",
       "      <th></th>\n",
       "      <th>authorized_flag</th>\n",
       "      <th>card_id</th>\n",
       "      <th>city_id</th>\n",
       "      <th>category_1</th>\n",
       "      <th>installments</th>\n",
       "      <th>category_3</th>\n",
       "      <th>merchant_category_id</th>\n",
       "      <th>merchant_id</th>\n",
       "      <th>month_lag</th>\n",
       "      <th>purchase_amount</th>\n",
       "      <th>purchase_date</th>\n",
       "      <th>category_2</th>\n",
       "      <th>state_id</th>\n",
       "      <th>subsector_id</th>\n",
       "      <th>purchase_date_TS</th>\n",
       "    </tr>\n",
       "  </thead>\n",
       "  <tbody>\n",
       "    <tr>\n",
       "      <th>0</th>\n",
       "      <td>Y</td>\n",
       "      <td>C_ID_415bb3a509</td>\n",
       "      <td>107</td>\n",
       "      <td>N</td>\n",
       "      <td>1</td>\n",
       "      <td>B</td>\n",
       "      <td>307</td>\n",
       "      <td>M_ID_b0c793002c</td>\n",
       "      <td>1</td>\n",
       "      <td>-0.557574</td>\n",
       "      <td>2018-03-11 14:57:36</td>\n",
       "      <td>1.0</td>\n",
       "      <td>9</td>\n",
       "      <td>19</td>\n",
       "      <td>2018-03-11 14:57:36</td>\n",
       "    </tr>\n",
       "    <tr>\n",
       "      <th>1</th>\n",
       "      <td>Y</td>\n",
       "      <td>C_ID_415bb3a509</td>\n",
       "      <td>140</td>\n",
       "      <td>N</td>\n",
       "      <td>1</td>\n",
       "      <td>B</td>\n",
       "      <td>307</td>\n",
       "      <td>M_ID_88920c89e8</td>\n",
       "      <td>1</td>\n",
       "      <td>-0.569580</td>\n",
       "      <td>2018-03-19 18:53:37</td>\n",
       "      <td>1.0</td>\n",
       "      <td>9</td>\n",
       "      <td>19</td>\n",
       "      <td>2018-03-19 18:53:37</td>\n",
       "    </tr>\n",
       "    <tr>\n",
       "      <th>2</th>\n",
       "      <td>Y</td>\n",
       "      <td>C_ID_415bb3a509</td>\n",
       "      <td>330</td>\n",
       "      <td>N</td>\n",
       "      <td>1</td>\n",
       "      <td>B</td>\n",
       "      <td>507</td>\n",
       "      <td>M_ID_ad5237ef6b</td>\n",
       "      <td>2</td>\n",
       "      <td>-0.551037</td>\n",
       "      <td>2018-04-26 14:08:44</td>\n",
       "      <td>1.0</td>\n",
       "      <td>9</td>\n",
       "      <td>14</td>\n",
       "      <td>2018-04-26 14:08:44</td>\n",
       "    </tr>\n",
       "    <tr>\n",
       "      <th>3</th>\n",
       "      <td>Y</td>\n",
       "      <td>C_ID_415bb3a509</td>\n",
       "      <td>-1</td>\n",
       "      <td>Y</td>\n",
       "      <td>1</td>\n",
       "      <td>B</td>\n",
       "      <td>661</td>\n",
       "      <td>M_ID_9e84cda3b1</td>\n",
       "      <td>1</td>\n",
       "      <td>-0.671925</td>\n",
       "      <td>2018-03-07 09:43:21</td>\n",
       "      <td>NaN</td>\n",
       "      <td>-1</td>\n",
       "      <td>8</td>\n",
       "      <td>2018-03-07 09:43:21</td>\n",
       "    </tr>\n",
       "    <tr>\n",
       "      <th>4</th>\n",
       "      <td>Y</td>\n",
       "      <td>C_ID_ef55cf8d4b</td>\n",
       "      <td>-1</td>\n",
       "      <td>Y</td>\n",
       "      <td>1</td>\n",
       "      <td>B</td>\n",
       "      <td>166</td>\n",
       "      <td>M_ID_3c86fa3831</td>\n",
       "      <td>1</td>\n",
       "      <td>-0.659904</td>\n",
       "      <td>2018-03-22 21:07:53</td>\n",
       "      <td>NaN</td>\n",
       "      <td>-1</td>\n",
       "      <td>29</td>\n",
       "      <td>2018-03-22 21:07:53</td>\n",
       "    </tr>\n",
       "  </tbody>\n",
       "</table>\n",
       "</div>"
      ],
      "text/plain": [
       "  authorized_flag          card_id  city_id category_1  installments  \\\n",
       "0               Y  C_ID_415bb3a509      107          N             1   \n",
       "1               Y  C_ID_415bb3a509      140          N             1   \n",
       "2               Y  C_ID_415bb3a509      330          N             1   \n",
       "3               Y  C_ID_415bb3a509       -1          Y             1   \n",
       "4               Y  C_ID_ef55cf8d4b       -1          Y             1   \n",
       "\n",
       "  category_3  merchant_category_id      merchant_id  month_lag  \\\n",
       "0          B                   307  M_ID_b0c793002c          1   \n",
       "1          B                   307  M_ID_88920c89e8          1   \n",
       "2          B                   507  M_ID_ad5237ef6b          2   \n",
       "3          B                   661  M_ID_9e84cda3b1          1   \n",
       "4          B                   166  M_ID_3c86fa3831          1   \n",
       "\n",
       "   purchase_amount       purchase_date  category_2  state_id  subsector_id  \\\n",
       "0        -0.557574 2018-03-11 14:57:36         1.0         9            19   \n",
       "1        -0.569580 2018-03-19 18:53:37         1.0         9            19   \n",
       "2        -0.551037 2018-04-26 14:08:44         1.0         9            14   \n",
       "3        -0.671925 2018-03-07 09:43:21         NaN        -1             8   \n",
       "4        -0.659904 2018-03-22 21:07:53         NaN        -1            29   \n",
       "\n",
       "     purchase_date_TS  \n",
       "0 2018-03-11 14:57:36  \n",
       "1 2018-03-19 18:53:37  \n",
       "2 2018-04-26 14:08:44  \n",
       "3 2018-03-07 09:43:21  \n",
       "4 2018-03-22 21:07:53  "
      ]
     },
     "execution_count": 111,
     "metadata": {},
     "output_type": "execute_result"
    }
   ],
   "source": [
    "data.limit(5).toPandas().head()"
   ]
  },
  {
   "cell_type": "code",
   "execution_count": 126,
   "metadata": {
    "ExecuteTime": {
     "end_time": "2019-03-08T15:12:14.223907Z",
     "start_time": "2019-03-08T15:12:14.217888Z"
    }
   },
   "outputs": [],
   "source": [
    "# data = data"
   ]
  },
  {
   "cell_type": "markdown",
   "metadata": {},
   "source": [
    "### Missing Value Statistics"
   ]
  },
  {
   "cell_type": "code",
   "execution_count": 133,
   "metadata": {
    "ExecuteTime": {
     "end_time": "2019-03-08T15:17:19.713162Z",
     "start_time": "2019-03-08T15:17:04.147954Z"
    }
   },
   "outputs": [
    {
     "name": "stdout",
     "output_type": "stream",
     "text": [
      "+--------------------+-------+------------------+\n",
      "|              column|missing|       pct_missing|\n",
      "+--------------------+-------+------------------+\n",
      "|          category_2| 111745| 5.692472508075522|\n",
      "|          category_3|  55922|2.8487578647509895|\n",
      "|         merchant_id|  26216|1.3354857870303627|\n",
      "|     authorized_flag|      0|               0.0|\n",
      "|             card_id|      0|               0.0|\n",
      "|             city_id|      0|               0.0|\n",
      "|          category_1|      0|               0.0|\n",
      "|        installments|      0|               0.0|\n",
      "|merchant_category_id|      0|               0.0|\n",
      "|           month_lag|      0|               0.0|\n",
      "|     purchase_amount|      0|               0.0|\n",
      "|       purchase_date|      0|               0.0|\n",
      "|            state_id|      0|               0.0|\n",
      "|        subsector_id|      0|               0.0|\n",
      "|    purchase_date_TS|      0|               0.0|\n",
      "+--------------------+-------+------------------+\n",
      "\n"
     ]
    }
   ],
   "source": [
    "from pyspark.sql.functions import col,sum\n",
    "def missing_df(df):\n",
    "    num_rows = df.count()\n",
    "    missing = df.select(*((sum(col(c).isNull().cast(\"int\"))).alias(c)  for c in df.columns))\n",
    "    \n",
    "    # use pandas to convert it to percent and recast it to spark dataframe\n",
    "    missing = missing.toPandas().T\n",
    "    missing = missing.reset_index()\n",
    "    missing.columns = [\"column\",\"missing\"]\n",
    "    missing[\"pct_missing\"]  = missing[\"missing\"] * 100 / num_rows\n",
    "    missing = missing.sort_values('pct_missing', ascending=False)\n",
    "    missing = spark.createDataFrame(missing)\n",
    "    \n",
    "    return missing\n",
    "    \n",
    "missing_df(data).show()"
   ]
  },
  {
   "cell_type": "markdown",
   "metadata": {},
   "source": [
    "### General Statistics"
   ]
  },
  {
   "cell_type": "code",
   "execution_count": 137,
   "metadata": {
    "ExecuteTime": {
     "end_time": "2019-03-08T15:19:58.158706Z",
     "start_time": "2019-03-08T15:19:30.500502Z"
    }
   },
   "outputs": [
    {
     "data": {
      "text/html": [
       "<div>\n",
       "<style scoped>\n",
       "    .dataframe tbody tr th:only-of-type {\n",
       "        vertical-align: middle;\n",
       "    }\n",
       "\n",
       "    .dataframe tbody tr th {\n",
       "        vertical-align: top;\n",
       "    }\n",
       "\n",
       "    .dataframe thead th {\n",
       "        text-align: right;\n",
       "    }\n",
       "</style>\n",
       "<table border=\"1\" class=\"dataframe\">\n",
       "  <thead>\n",
       "    <tr style=\"text-align: right;\">\n",
       "      <th></th>\n",
       "      <th>summary</th>\n",
       "      <th>authorized_flag</th>\n",
       "      <th>card_id</th>\n",
       "      <th>city_id</th>\n",
       "      <th>category_1</th>\n",
       "      <th>installments</th>\n",
       "      <th>category_3</th>\n",
       "      <th>merchant_category_id</th>\n",
       "      <th>merchant_id</th>\n",
       "      <th>month_lag</th>\n",
       "      <th>purchase_amount</th>\n",
       "      <th>category_2</th>\n",
       "      <th>state_id</th>\n",
       "      <th>subsector_id</th>\n",
       "    </tr>\n",
       "  </thead>\n",
       "  <tbody>\n",
       "    <tr>\n",
       "      <th>0</th>\n",
       "      <td>count</td>\n",
       "      <td>1963031</td>\n",
       "      <td>1963031</td>\n",
       "      <td>1963031</td>\n",
       "      <td>1963031</td>\n",
       "      <td>1963031</td>\n",
       "      <td>1907109</td>\n",
       "      <td>1963031</td>\n",
       "      <td>1936815</td>\n",
       "      <td>1963031</td>\n",
       "      <td>1963031</td>\n",
       "      <td>1851286</td>\n",
       "      <td>1963031</td>\n",
       "      <td>1963031</td>\n",
       "    </tr>\n",
       "    <tr>\n",
       "      <th>1</th>\n",
       "      <td>mean</td>\n",
       "      <td>None</td>\n",
       "      <td>None</td>\n",
       "      <td>134.38667906925565</td>\n",
       "      <td>None</td>\n",
       "      <td>0.68296425272958</td>\n",
       "      <td>None</td>\n",
       "      <td>430.9701349596619</td>\n",
       "      <td>None</td>\n",
       "      <td>1.476515144182644</td>\n",
       "      <td>-0.5509689991947693</td>\n",
       "      <td>2.1978413924158664</td>\n",
       "      <td>10.880668720972823</td>\n",
       "      <td>25.976241332918327</td>\n",
       "    </tr>\n",
       "    <tr>\n",
       "      <th>2</th>\n",
       "      <td>stddev</td>\n",
       "      <td>None</td>\n",
       "      <td>None</td>\n",
       "      <td>101.51524185325826</td>\n",
       "      <td>None</td>\n",
       "      <td>1.5840690279734224</td>\n",
       "      <td>None</td>\n",
       "      <td>246.33851321678122</td>\n",
       "      <td>None</td>\n",
       "      <td>0.49944828423011517</td>\n",
       "      <td>0.6940042578499607</td>\n",
       "      <td>1.5281252821736917</td>\n",
       "      <td>6.038542094835003</td>\n",
       "      <td>10.129082649402267</td>\n",
       "    </tr>\n",
       "    <tr>\n",
       "      <th>3</th>\n",
       "      <td>min</td>\n",
       "      <td>Y</td>\n",
       "      <td>C_ID_00007093c1</td>\n",
       "      <td>-1</td>\n",
       "      <td>N</td>\n",
       "      <td>-1</td>\n",
       "      <td>A</td>\n",
       "      <td>-1</td>\n",
       "      <td>M_ID_000025127f</td>\n",
       "      <td>1</td>\n",
       "      <td>-0.74689277</td>\n",
       "      <td>1.0</td>\n",
       "      <td>-1</td>\n",
       "      <td>-1</td>\n",
       "    </tr>\n",
       "    <tr>\n",
       "      <th>4</th>\n",
       "      <td>max</td>\n",
       "      <td>Y</td>\n",
       "      <td>C_ID_fffffd5772</td>\n",
       "      <td>347</td>\n",
       "      <td>Y</td>\n",
       "      <td>999</td>\n",
       "      <td>C</td>\n",
       "      <td>891</td>\n",
       "      <td>M_ID_ffff0af8e7</td>\n",
       "      <td>2</td>\n",
       "      <td>263.15749789</td>\n",
       "      <td>5.0</td>\n",
       "      <td>24</td>\n",
       "      <td>41</td>\n",
       "    </tr>\n",
       "  </tbody>\n",
       "</table>\n",
       "</div>"
      ],
      "text/plain": [
       "  summary authorized_flag          card_id             city_id category_1  \\\n",
       "0   count         1963031          1963031             1963031    1963031   \n",
       "1    mean            None             None  134.38667906925565       None   \n",
       "2  stddev            None             None  101.51524185325826       None   \n",
       "3     min               Y  C_ID_00007093c1                  -1          N   \n",
       "4     max               Y  C_ID_fffffd5772                 347          Y   \n",
       "\n",
       "         installments category_3 merchant_category_id      merchant_id  \\\n",
       "0             1963031    1907109              1963031          1936815   \n",
       "1    0.68296425272958       None    430.9701349596619             None   \n",
       "2  1.5840690279734224       None   246.33851321678122             None   \n",
       "3                  -1          A                   -1  M_ID_000025127f   \n",
       "4                 999          C                  891  M_ID_ffff0af8e7   \n",
       "\n",
       "             month_lag      purchase_amount          category_2  \\\n",
       "0              1963031              1963031             1851286   \n",
       "1    1.476515144182644  -0.5509689991947693  2.1978413924158664   \n",
       "2  0.49944828423011517   0.6940042578499607  1.5281252821736917   \n",
       "3                    1          -0.74689277                 1.0   \n",
       "4                    2         263.15749789                 5.0   \n",
       "\n",
       "             state_id        subsector_id  \n",
       "0             1963031             1963031  \n",
       "1  10.880668720972823  25.976241332918327  \n",
       "2   6.038542094835003  10.129082649402267  \n",
       "3                  -1                  -1  \n",
       "4                  24                  41  "
      ]
     },
     "execution_count": 137,
     "metadata": {},
     "output_type": "execute_result"
    }
   ],
   "source": [
    "data.describe().toPandas()"
   ]
  },
  {
   "cell_type": "markdown",
   "metadata": {},
   "source": [
    "### Export File to required_format"
   ]
  },
  {
   "cell_type": "code",
   "execution_count": null,
   "metadata": {},
   "outputs": [],
   "source": []
  },
  {
   "cell_type": "code",
   "execution_count": 140,
   "metadata": {
    "ExecuteTime": {
     "end_time": "2019-03-08T15:22:59.973003Z",
     "start_time": "2019-03-08T15:22:35.582877Z"
    }
   },
   "outputs": [],
   "source": [
    "data.write.format(NEW_FILE_FORMAT).option(\"path\",NEW_FILE_NAME).save()"
   ]
  },
  {
   "cell_type": "code",
   "execution_count": null,
   "metadata": {},
   "outputs": [],
   "source": []
  },
  {
   "cell_type": "code",
   "execution_count": 141,
   "metadata": {
    "ExecuteTime": {
     "end_time": "2019-03-08T15:24:00.485339Z",
     "start_time": "2019-03-08T15:24:00.234617Z"
    }
   },
   "outputs": [
    {
     "data": {
      "text/plain": [
       "1963031"
      ]
     },
     "execution_count": 141,
     "metadata": {},
     "output_type": "execute_result"
    }
   ],
   "source": [
    "data2 = spark.read.parquet(NEW_FILE_NAME)\n",
    "data2.count()"
   ]
  },
  {
   "cell_type": "code",
   "execution_count": 142,
   "metadata": {
    "ExecuteTime": {
     "end_time": "2019-03-08T15:24:32.903211Z",
     "start_time": "2019-03-08T15:24:23.086697Z"
    }
   },
   "outputs": [
    {
     "data": {
      "text/plain": [
       "1963031"
      ]
     },
     "execution_count": 142,
     "metadata": {},
     "output_type": "execute_result"
    }
   ],
   "source": [
    "data2 = spark.read.csv(FILE_NAME, header=True, inferSchema=True)\n",
    "data2.count()"
   ]
  },
  {
   "cell_type": "code",
   "execution_count": 143,
   "metadata": {
    "ExecuteTime": {
     "end_time": "2019-03-08T15:24:42.671854Z",
     "start_time": "2019-03-08T15:24:41.872510Z"
    }
   },
   "outputs": [
    {
     "data": {
      "text/plain": [
       "1963031"
      ]
     },
     "execution_count": 143,
     "metadata": {},
     "output_type": "execute_result"
    }
   ],
   "source": [
    "data3 = spark.read.csv(FILE_NAME, header=True, inferSchema=False)\n",
    "data3.count()"
   ]
  },
  {
   "cell_type": "code",
   "execution_count": 145,
   "metadata": {
    "ExecuteTime": {
     "end_time": "2019-03-08T15:25:48.035528Z",
     "start_time": "2019-03-08T15:25:48.026572Z"
    }
   },
   "outputs": [
    {
     "name": "stdout",
     "output_type": "stream",
     "text": [
      "root\n",
      " |-- authorized_flag: string (nullable = true)\n",
      " |-- card_id: string (nullable = true)\n",
      " |-- city_id: string (nullable = true)\n",
      " |-- category_1: string (nullable = true)\n",
      " |-- installments: string (nullable = true)\n",
      " |-- category_3: string (nullable = true)\n",
      " |-- merchant_category_id: string (nullable = true)\n",
      " |-- merchant_id: string (nullable = true)\n",
      " |-- month_lag: string (nullable = true)\n",
      " |-- purchase_amount: string (nullable = true)\n",
      " |-- purchase_date: string (nullable = true)\n",
      " |-- category_2: string (nullable = true)\n",
      " |-- state_id: string (nullable = true)\n",
      " |-- subsector_id: string (nullable = true)\n",
      "\n"
     ]
    }
   ],
   "source": [
    "data3.printSchema()"
   ]
  },
  {
   "cell_type": "code",
   "execution_count": null,
   "metadata": {},
   "outputs": [],
   "source": []
  }
 ],
 "metadata": {
  "kernelspec": {
   "display_name": "Python 3",
   "language": "python",
   "name": "python3"
  },
  "language_info": {
   "codemirror_mode": {
    "name": "ipython",
    "version": 3
   },
   "file_extension": ".py",
   "mimetype": "text/x-python",
   "name": "python",
   "nbconvert_exporter": "python",
   "pygments_lexer": "ipython3",
   "version": "3.5.2"
  }
 },
 "nbformat": 4,
 "nbformat_minor": 2
}
